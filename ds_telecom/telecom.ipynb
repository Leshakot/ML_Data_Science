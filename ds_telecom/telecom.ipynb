{
  "metadata": {
    "kernelspec": {
      "language": "python",
      "display_name": "Python 3",
      "name": "python3"
    },
    "language_info": {
      "name": "python",
      "version": "3.7.12",
      "mimetype": "text/x-python",
      "codemirror_mode": {
        "name": "ipython",
        "version": 3
      },
      "pygments_lexer": "ipython3",
      "nbconvert_exporter": "python",
      "file_extension": ".py"
    },
    "colab": {
      "provenance": []
    }
  },
  "nbformat_minor": 0,
  "nbformat": 4,
  "cells": [
    {
      "cell_type": "code",
      "source": [
        "# This Python 3 environment comes with many helpful analytics libraries installed\n",
        "# It is defined by the kaggle/python Docker image: https://github.com/kaggle/docker-python\n",
        "# For example, here's several helpful packages to load\n",
        "\n",
        "import numpy as np # linear algebra\n",
        "import pandas as pd # data processing, CSV file I/O (e.g. pd.read_csv)\n",
        "\n",
        "# Input data files are available in the read-only \"../input/\" directory\n",
        "# For example, running this (by clicking run or pressing Shift+Enter) will list all files under the input directory\n",
        "\n",
        "import os\n",
        "for dirname, _, filenames in os.walk('/kaggle/input'):\n",
        "    for filename in filenames:\n",
        "        print(os.path.join(dirname, filename))\n",
        "\n",
        "# You can write up to 20GB to the current directory (/kaggle/working/) that gets preserved as output when you create a version using \"Save & Run All\"\n",
        "# You can also write temporary files to /kaggle/temp/, but they won't be saved outside of the current session"
      ],
      "metadata": {
        "_uuid": "8f2839f25d086af736a60e9eeb907d3b93b6e0e5",
        "_cell_guid": "b1076dfc-b9ad-4769-8c92-a6c4dae69d19",
        "execution": {
          "iopub.status.busy": "2023-04-18T08:01:20.437461Z",
          "iopub.execute_input": "2023-04-18T08:01:20.438091Z",
          "iopub.status.idle": "2023-04-18T08:01:20.486157Z",
          "shell.execute_reply.started": "2023-04-18T08:01:20.438041Z",
          "shell.execute_reply": "2023-04-18T08:01:20.484946Z"
        },
        "trusted": true,
        "id": "qJA00HKEZ5S5"
      },
      "execution_count": null,
      "outputs": []
    },
    {
      "cell_type": "code",
      "source": [
        "! pip install catboost"
      ],
      "metadata": {
        "execution": {
          "iopub.status.busy": "2023-04-18T08:01:20.488232Z",
          "iopub.execute_input": "2023-04-18T08:01:20.489077Z",
          "iopub.status.idle": "2023-04-18T08:01:36.196295Z",
          "shell.execute_reply.started": "2023-04-18T08:01:20.489030Z",
          "shell.execute_reply": "2023-04-18T08:01:36.194928Z"
        },
        "trusted": true,
        "colab": {
          "base_uri": "https://localhost:8080/"
        },
        "id": "LBEZ9avFZ5S8",
        "outputId": "bac8e0b9-1577-4fb4-bbc1-8f081e0a6424"
      },
      "execution_count": null,
      "outputs": [
        {
          "output_type": "stream",
          "name": "stdout",
          "text": [
            "Looking in indexes: https://pypi.org/simple, https://us-python.pkg.dev/colab-wheels/public/simple/\n",
            "Collecting catboost\n",
            "  Downloading catboost-1.1.1-cp39-none-manylinux1_x86_64.whl (76.6 MB)\n",
            "\u001b[2K     \u001b[90m━━━━━━━━━━━━━━━━━━━━━━━━━━━━━━━━━━━━━━━━\u001b[0m \u001b[32m76.6/76.6 MB\u001b[0m \u001b[31m10.2 MB/s\u001b[0m eta \u001b[36m0:00:00\u001b[0m\n",
            "\u001b[?25hRequirement already satisfied: matplotlib in /usr/local/lib/python3.9/dist-packages (from catboost) (3.7.1)\n",
            "Requirement already satisfied: pandas>=0.24.0 in /usr/local/lib/python3.9/dist-packages (from catboost) (1.5.3)\n",
            "Requirement already satisfied: scipy in /usr/local/lib/python3.9/dist-packages (from catboost) (1.10.1)\n",
            "Requirement already satisfied: numpy>=1.16.0 in /usr/local/lib/python3.9/dist-packages (from catboost) (1.22.4)\n",
            "Requirement already satisfied: plotly in /usr/local/lib/python3.9/dist-packages (from catboost) (5.13.1)\n",
            "Requirement already satisfied: graphviz in /usr/local/lib/python3.9/dist-packages (from catboost) (0.20.1)\n",
            "Requirement already satisfied: six in /usr/local/lib/python3.9/dist-packages (from catboost) (1.16.0)\n",
            "Requirement already satisfied: python-dateutil>=2.8.1 in /usr/local/lib/python3.9/dist-packages (from pandas>=0.24.0->catboost) (2.8.2)\n",
            "Requirement already satisfied: pytz>=2020.1 in /usr/local/lib/python3.9/dist-packages (from pandas>=0.24.0->catboost) (2022.7.1)\n",
            "Requirement already satisfied: kiwisolver>=1.0.1 in /usr/local/lib/python3.9/dist-packages (from matplotlib->catboost) (1.4.4)\n",
            "Requirement already satisfied: cycler>=0.10 in /usr/local/lib/python3.9/dist-packages (from matplotlib->catboost) (0.11.0)\n",
            "Requirement already satisfied: importlib-resources>=3.2.0 in /usr/local/lib/python3.9/dist-packages (from matplotlib->catboost) (5.12.0)\n",
            "Requirement already satisfied: fonttools>=4.22.0 in /usr/local/lib/python3.9/dist-packages (from matplotlib->catboost) (4.39.3)\n",
            "Requirement already satisfied: packaging>=20.0 in /usr/local/lib/python3.9/dist-packages (from matplotlib->catboost) (23.0)\n",
            "Requirement already satisfied: contourpy>=1.0.1 in /usr/local/lib/python3.9/dist-packages (from matplotlib->catboost) (1.0.7)\n",
            "Requirement already satisfied: pillow>=6.2.0 in /usr/local/lib/python3.9/dist-packages (from matplotlib->catboost) (8.4.0)\n",
            "Requirement already satisfied: pyparsing>=2.3.1 in /usr/local/lib/python3.9/dist-packages (from matplotlib->catboost) (3.0.9)\n",
            "Requirement already satisfied: tenacity>=6.2.0 in /usr/local/lib/python3.9/dist-packages (from plotly->catboost) (8.2.2)\n",
            "Requirement already satisfied: zipp>=3.1.0 in /usr/local/lib/python3.9/dist-packages (from importlib-resources>=3.2.0->matplotlib->catboost) (3.15.0)\n",
            "Installing collected packages: catboost\n",
            "Successfully installed catboost-1.1.1\n"
          ]
        }
      ]
    },
    {
      "cell_type": "code",
      "source": [
        "!pip install phik"
      ],
      "metadata": {
        "execution": {
          "iopub.status.busy": "2023-04-18T08:01:36.198196Z",
          "iopub.execute_input": "2023-04-18T08:01:36.199508Z",
          "iopub.status.idle": "2023-04-18T08:01:48.600859Z",
          "shell.execute_reply.started": "2023-04-18T08:01:36.199455Z",
          "shell.execute_reply": "2023-04-18T08:01:48.598965Z"
        },
        "trusted": true,
        "colab": {
          "base_uri": "https://localhost:8080/"
        },
        "id": "MeXkuKhhZ5S9",
        "outputId": "87821401-a6c0-449b-b05a-b69475319cca"
      },
      "execution_count": null,
      "outputs": [
        {
          "output_type": "stream",
          "name": "stdout",
          "text": [
            "Looking in indexes: https://pypi.org/simple, https://us-python.pkg.dev/colab-wheels/public/simple/\n",
            "Collecting phik\n",
            "  Downloading phik-0.12.3-cp39-cp39-manylinux_2_17_x86_64.manylinux2014_x86_64.whl (679 kB)\n",
            "\u001b[2K     \u001b[90m━━━━━━━━━━━━━━━━━━━━━━━━━━━━━━━━━━━━━━\u001b[0m \u001b[32m679.8/679.8 kB\u001b[0m \u001b[31m12.0 MB/s\u001b[0m eta \u001b[36m0:00:00\u001b[0m\n",
            "\u001b[?25hRequirement already satisfied: numpy>=1.18.0 in /usr/local/lib/python3.9/dist-packages (from phik) (1.22.4)\n",
            "Requirement already satisfied: joblib>=0.14.1 in /usr/local/lib/python3.9/dist-packages (from phik) (1.2.0)\n",
            "Requirement already satisfied: scipy>=1.5.2 in /usr/local/lib/python3.9/dist-packages (from phik) (1.10.1)\n",
            "Requirement already satisfied: matplotlib>=2.2.3 in /usr/local/lib/python3.9/dist-packages (from phik) (3.7.1)\n",
            "Requirement already satisfied: pandas>=0.25.1 in /usr/local/lib/python3.9/dist-packages (from phik) (1.5.3)\n",
            "Requirement already satisfied: python-dateutil>=2.7 in /usr/local/lib/python3.9/dist-packages (from matplotlib>=2.2.3->phik) (2.8.2)\n",
            "Requirement already satisfied: importlib-resources>=3.2.0 in /usr/local/lib/python3.9/dist-packages (from matplotlib>=2.2.3->phik) (5.12.0)\n",
            "Requirement already satisfied: contourpy>=1.0.1 in /usr/local/lib/python3.9/dist-packages (from matplotlib>=2.2.3->phik) (1.0.7)\n",
            "Requirement already satisfied: kiwisolver>=1.0.1 in /usr/local/lib/python3.9/dist-packages (from matplotlib>=2.2.3->phik) (1.4.4)\n",
            "Requirement already satisfied: packaging>=20.0 in /usr/local/lib/python3.9/dist-packages (from matplotlib>=2.2.3->phik) (23.0)\n",
            "Requirement already satisfied: pyparsing>=2.3.1 in /usr/local/lib/python3.9/dist-packages (from matplotlib>=2.2.3->phik) (3.0.9)\n",
            "Requirement already satisfied: pillow>=6.2.0 in /usr/local/lib/python3.9/dist-packages (from matplotlib>=2.2.3->phik) (8.4.0)\n",
            "Requirement already satisfied: fonttools>=4.22.0 in /usr/local/lib/python3.9/dist-packages (from matplotlib>=2.2.3->phik) (4.39.3)\n",
            "Requirement already satisfied: cycler>=0.10 in /usr/local/lib/python3.9/dist-packages (from matplotlib>=2.2.3->phik) (0.11.0)\n",
            "Requirement already satisfied: pytz>=2020.1 in /usr/local/lib/python3.9/dist-packages (from pandas>=0.25.1->phik) (2022.7.1)\n",
            "Requirement already satisfied: zipp>=3.1.0 in /usr/local/lib/python3.9/dist-packages (from importlib-resources>=3.2.0->matplotlib>=2.2.3->phik) (3.15.0)\n",
            "Requirement already satisfied: six>=1.5 in /usr/local/lib/python3.9/dist-packages (from python-dateutil>=2.7->matplotlib>=2.2.3->phik) (1.16.0)\n",
            "Installing collected packages: phik\n",
            "Successfully installed phik-0.12.3\n"
          ]
        }
      ]
    },
    {
      "cell_type": "code",
      "source": [
        "import pandas as pd\n",
        "import numpy as np\n",
        "import matplotlib.pyplot as plt\n",
        "import seaborn as sns\n",
        "from catboost import CatBoostClassifier\n",
        "from sklearn.linear_model import LogisticRegression, LogisticRegressionCV\n",
        "from sklearn.model_selection import train_test_split, GridSearchCV\n",
        "from sklearn.preprocessing import StandardScaler, RobustScaler, LabelEncoder, OneHotEncoder\n",
        "from sklearn.pipeline import make_pipeline\n",
        "from catboost import CatBoostClassifier\n",
        "from sklearn.metrics import roc_auc_score\n",
        "import phik\n",
        "import warnings\n",
        "warnings.filterwarnings(\"ignore\")"
      ],
      "metadata": {
        "execution": {
          "iopub.status.busy": "2023-04-18T08:01:48.604688Z",
          "iopub.execute_input": "2023-04-18T08:01:48.605131Z",
          "iopub.status.idle": "2023-04-18T08:01:50.105945Z",
          "shell.execute_reply.started": "2023-04-18T08:01:48.605087Z",
          "shell.execute_reply": "2023-04-18T08:01:50.103462Z"
        },
        "trusted": true,
        "id": "YiMJ9jk8Z5S9"
      },
      "execution_count": null,
      "outputs": []
    },
    {
      "cell_type": "code",
      "source": [
        "!gdown 1ERwQ5odiK1Zvi1LtjpkzCMUswYsAX8_K  # train.csv\n",
        "!gdown 1fGw_-RFwvn_LEdt91Jq-7A-wzG6mmH8r  # test.csv\n",
        "!gdown 199Mt4OYZNaelT83U-HGDsEYs2YcUGQ6y  # submission.csv"
      ],
      "metadata": {
        "execution": {
          "iopub.status.busy": "2023-04-18T08:01:50.109036Z",
          "iopub.execute_input": "2023-04-18T08:01:50.109697Z",
          "iopub.status.idle": "2023-04-18T08:01:53.412930Z",
          "shell.execute_reply.started": "2023-04-18T08:01:50.109632Z",
          "shell.execute_reply": "2023-04-18T08:01:53.411172Z"
        },
        "trusted": true,
        "colab": {
          "base_uri": "https://localhost:8080/"
        },
        "id": "vnZbERG5Z5S9",
        "outputId": "5aaaf215-ee7e-4279-e91a-1f9a4235644e"
      },
      "execution_count": null,
      "outputs": [
        {
          "output_type": "stream",
          "name": "stdout",
          "text": [
            "Downloading...\n",
            "From: https://drive.google.com/uc?id=1ERwQ5odiK1Zvi1LtjpkzCMUswYsAX8_K\n",
            "To: /content/train.csv\n",
            "100% 664k/664k [00:00<00:00, 107MB/s]\n",
            "Downloading...\n",
            "From: https://drive.google.com/uc?id=1fGw_-RFwvn_LEdt91Jq-7A-wzG6mmH8r\n",
            "To: /content/test.csv\n",
            "100% 218k/218k [00:00<00:00, 76.3MB/s]\n",
            "Downloading...\n",
            "From: https://drive.google.com/uc?id=199Mt4OYZNaelT83U-HGDsEYs2YcUGQ6y\n",
            "To: /content/submission.csv\n",
            "100% 14.7k/14.7k [00:00<00:00, 21.3MB/s]\n"
          ]
        }
      ]
    },
    {
      "cell_type": "code",
      "source": [
        "try:\n",
        "    df = pd.read_csv('/kaggle/input/advanced-dls-spring-2021/train.csv')\n",
        "    test = pd.read_csv('/kaggle/input/advanced-dls-spring-2021/test.csv')\n",
        "except:\n",
        "    df = pd.read_csv('https://drive.google.com/uc?id=1ERwQ5odiK1Zvi1LtjpkzCMUswYsAX8_K')\n",
        "    test = pd.read_csv('https://drive.google.com/uc?id=1fGw_-RFwvn_LEdt91Jq-7A-wzG6mmH8r')"
      ],
      "metadata": {
        "execution": {
          "iopub.status.busy": "2023-04-18T08:01:53.415585Z",
          "iopub.execute_input": "2023-04-18T08:01:53.416066Z",
          "iopub.status.idle": "2023-04-18T08:01:53.498478Z",
          "shell.execute_reply.started": "2023-04-18T08:01:53.416016Z",
          "shell.execute_reply": "2023-04-18T08:01:53.497353Z"
        },
        "trusted": true,
        "id": "wGnXSCN4Z5S-"
      },
      "execution_count": null,
      "outputs": []
    },
    {
      "cell_type": "markdown",
      "source": [
        "## Загрузим данные и изучим общую информацию."
      ],
      "metadata": {
        "id": "RCEeFnWEZ5S-"
      }
    },
    {
      "cell_type": "code",
      "source": [
        "# df = pd.read_csv('/kaggle/input/advanced-dls-spring-2021/train.csv')\n",
        "# test = pd.read_csv('/kaggle/input/advanced-dls-spring-2021/test.csv')"
      ],
      "metadata": {
        "execution": {
          "iopub.status.busy": "2023-04-18T08:01:53.499608Z",
          "iopub.execute_input": "2023-04-18T08:01:53.500013Z",
          "iopub.status.idle": "2023-04-18T08:01:53.506076Z",
          "shell.execute_reply.started": "2023-04-18T08:01:53.499975Z",
          "shell.execute_reply": "2023-04-18T08:01:53.504909Z"
        },
        "trusted": true,
        "id": "M-UTK5MyZ5S_"
      },
      "execution_count": null,
      "outputs": []
    },
    {
      "cell_type": "code",
      "source": [
        "df.sample(5)"
      ],
      "metadata": {
        "execution": {
          "iopub.status.busy": "2023-04-18T08:01:53.508360Z",
          "iopub.execute_input": "2023-04-18T08:01:53.508819Z",
          "iopub.status.idle": "2023-04-18T08:01:53.566902Z",
          "shell.execute_reply.started": "2023-04-18T08:01:53.508755Z",
          "shell.execute_reply": "2023-04-18T08:01:53.565303Z"
        },
        "trusted": true,
        "colab": {
          "base_uri": "https://localhost:8080/",
          "height": 357
        },
        "id": "B2_FEjqjZ5S_",
        "outputId": "0398b1ec-b9a3-4834-eee5-65e2610c6470"
      },
      "execution_count": null,
      "outputs": [
        {
          "output_type": "execute_result",
          "data": {
            "text/plain": [
              "      ClientPeriod  MonthlySpending TotalSpent     Sex  IsSeniorCitizen  \\\n",
              "3340            13            25.00      332.5  Female                0   \n",
              "101              7            20.65        150    Male                0   \n",
              "497             16            19.75     284.35    Male                0   \n",
              "2918             3            78.50     242.05    Male                0   \n",
              "2823            40            42.35    1716.45    Male                0   \n",
              "\n",
              "     HasPartner HasChild HasPhoneService HasMultiplePhoneNumbers  \\\n",
              "3340        Yes      Yes             Yes                     Yes   \n",
              "101         Yes      Yes             Yes                      No   \n",
              "497          No       No             Yes                      No   \n",
              "2918         No       No             Yes                      No   \n",
              "2823        Yes       No              No        No phone service   \n",
              "\n",
              "     HasInternetService HasOnlineSecurityService      HasOnlineBackup  \\\n",
              "3340                 No      No internet service  No internet service   \n",
              "101                  No      No internet service  No internet service   \n",
              "497                  No      No internet service  No internet service   \n",
              "2918        Fiber optic                       No                   No   \n",
              "2823                DSL                      Yes                  Yes   \n",
              "\n",
              "      HasDeviceProtection HasTechSupportAccess          HasOnlineTV  \\\n",
              "3340  No internet service  No internet service  No internet service   \n",
              "101   No internet service  No internet service  No internet service   \n",
              "497   No internet service  No internet service  No internet service   \n",
              "2918                   No                   No                  Yes   \n",
              "2823                  Yes                   No                   No   \n",
              "\n",
              "     HasMovieSubscription HasContractPhone IsBillingPaperless  \\\n",
              "3340  No internet service         Two year                Yes   \n",
              "101   No internet service         One year                 No   \n",
              "497   No internet service         Two year                 No   \n",
              "2918                   No   Month-to-month                Yes   \n",
              "2823                   No         One year                Yes   \n",
              "\n",
              "                  PaymentMethod  Churn  \n",
              "3340  Bank transfer (automatic)      0  \n",
              "101                Mailed check      0  \n",
              "497                Mailed check      0  \n",
              "2918           Electronic check      1  \n",
              "2823           Electronic check      1  "
            ],
            "text/html": [
              "\n",
              "  <div id=\"df-8f24cf07-b382-4386-a6b3-6cf0cd3cd91f\">\n",
              "    <div class=\"colab-df-container\">\n",
              "      <div>\n",
              "<style scoped>\n",
              "    .dataframe tbody tr th:only-of-type {\n",
              "        vertical-align: middle;\n",
              "    }\n",
              "\n",
              "    .dataframe tbody tr th {\n",
              "        vertical-align: top;\n",
              "    }\n",
              "\n",
              "    .dataframe thead th {\n",
              "        text-align: right;\n",
              "    }\n",
              "</style>\n",
              "<table border=\"1\" class=\"dataframe\">\n",
              "  <thead>\n",
              "    <tr style=\"text-align: right;\">\n",
              "      <th></th>\n",
              "      <th>ClientPeriod</th>\n",
              "      <th>MonthlySpending</th>\n",
              "      <th>TotalSpent</th>\n",
              "      <th>Sex</th>\n",
              "      <th>IsSeniorCitizen</th>\n",
              "      <th>HasPartner</th>\n",
              "      <th>HasChild</th>\n",
              "      <th>HasPhoneService</th>\n",
              "      <th>HasMultiplePhoneNumbers</th>\n",
              "      <th>HasInternetService</th>\n",
              "      <th>HasOnlineSecurityService</th>\n",
              "      <th>HasOnlineBackup</th>\n",
              "      <th>HasDeviceProtection</th>\n",
              "      <th>HasTechSupportAccess</th>\n",
              "      <th>HasOnlineTV</th>\n",
              "      <th>HasMovieSubscription</th>\n",
              "      <th>HasContractPhone</th>\n",
              "      <th>IsBillingPaperless</th>\n",
              "      <th>PaymentMethod</th>\n",
              "      <th>Churn</th>\n",
              "    </tr>\n",
              "  </thead>\n",
              "  <tbody>\n",
              "    <tr>\n",
              "      <th>3340</th>\n",
              "      <td>13</td>\n",
              "      <td>25.00</td>\n",
              "      <td>332.5</td>\n",
              "      <td>Female</td>\n",
              "      <td>0</td>\n",
              "      <td>Yes</td>\n",
              "      <td>Yes</td>\n",
              "      <td>Yes</td>\n",
              "      <td>Yes</td>\n",
              "      <td>No</td>\n",
              "      <td>No internet service</td>\n",
              "      <td>No internet service</td>\n",
              "      <td>No internet service</td>\n",
              "      <td>No internet service</td>\n",
              "      <td>No internet service</td>\n",
              "      <td>No internet service</td>\n",
              "      <td>Two year</td>\n",
              "      <td>Yes</td>\n",
              "      <td>Bank transfer (automatic)</td>\n",
              "      <td>0</td>\n",
              "    </tr>\n",
              "    <tr>\n",
              "      <th>101</th>\n",
              "      <td>7</td>\n",
              "      <td>20.65</td>\n",
              "      <td>150</td>\n",
              "      <td>Male</td>\n",
              "      <td>0</td>\n",
              "      <td>Yes</td>\n",
              "      <td>Yes</td>\n",
              "      <td>Yes</td>\n",
              "      <td>No</td>\n",
              "      <td>No</td>\n",
              "      <td>No internet service</td>\n",
              "      <td>No internet service</td>\n",
              "      <td>No internet service</td>\n",
              "      <td>No internet service</td>\n",
              "      <td>No internet service</td>\n",
              "      <td>No internet service</td>\n",
              "      <td>One year</td>\n",
              "      <td>No</td>\n",
              "      <td>Mailed check</td>\n",
              "      <td>0</td>\n",
              "    </tr>\n",
              "    <tr>\n",
              "      <th>497</th>\n",
              "      <td>16</td>\n",
              "      <td>19.75</td>\n",
              "      <td>284.35</td>\n",
              "      <td>Male</td>\n",
              "      <td>0</td>\n",
              "      <td>No</td>\n",
              "      <td>No</td>\n",
              "      <td>Yes</td>\n",
              "      <td>No</td>\n",
              "      <td>No</td>\n",
              "      <td>No internet service</td>\n",
              "      <td>No internet service</td>\n",
              "      <td>No internet service</td>\n",
              "      <td>No internet service</td>\n",
              "      <td>No internet service</td>\n",
              "      <td>No internet service</td>\n",
              "      <td>Two year</td>\n",
              "      <td>No</td>\n",
              "      <td>Mailed check</td>\n",
              "      <td>0</td>\n",
              "    </tr>\n",
              "    <tr>\n",
              "      <th>2918</th>\n",
              "      <td>3</td>\n",
              "      <td>78.50</td>\n",
              "      <td>242.05</td>\n",
              "      <td>Male</td>\n",
              "      <td>0</td>\n",
              "      <td>No</td>\n",
              "      <td>No</td>\n",
              "      <td>Yes</td>\n",
              "      <td>No</td>\n",
              "      <td>Fiber optic</td>\n",
              "      <td>No</td>\n",
              "      <td>No</td>\n",
              "      <td>No</td>\n",
              "      <td>No</td>\n",
              "      <td>Yes</td>\n",
              "      <td>No</td>\n",
              "      <td>Month-to-month</td>\n",
              "      <td>Yes</td>\n",
              "      <td>Electronic check</td>\n",
              "      <td>1</td>\n",
              "    </tr>\n",
              "    <tr>\n",
              "      <th>2823</th>\n",
              "      <td>40</td>\n",
              "      <td>42.35</td>\n",
              "      <td>1716.45</td>\n",
              "      <td>Male</td>\n",
              "      <td>0</td>\n",
              "      <td>Yes</td>\n",
              "      <td>No</td>\n",
              "      <td>No</td>\n",
              "      <td>No phone service</td>\n",
              "      <td>DSL</td>\n",
              "      <td>Yes</td>\n",
              "      <td>Yes</td>\n",
              "      <td>Yes</td>\n",
              "      <td>No</td>\n",
              "      <td>No</td>\n",
              "      <td>No</td>\n",
              "      <td>One year</td>\n",
              "      <td>Yes</td>\n",
              "      <td>Electronic check</td>\n",
              "      <td>1</td>\n",
              "    </tr>\n",
              "  </tbody>\n",
              "</table>\n",
              "</div>\n",
              "      <button class=\"colab-df-convert\" onclick=\"convertToInteractive('df-8f24cf07-b382-4386-a6b3-6cf0cd3cd91f')\"\n",
              "              title=\"Convert this dataframe to an interactive table.\"\n",
              "              style=\"display:none;\">\n",
              "        \n",
              "  <svg xmlns=\"http://www.w3.org/2000/svg\" height=\"24px\"viewBox=\"0 0 24 24\"\n",
              "       width=\"24px\">\n",
              "    <path d=\"M0 0h24v24H0V0z\" fill=\"none\"/>\n",
              "    <path d=\"M18.56 5.44l.94 2.06.94-2.06 2.06-.94-2.06-.94-.94-2.06-.94 2.06-2.06.94zm-11 1L8.5 8.5l.94-2.06 2.06-.94-2.06-.94L8.5 2.5l-.94 2.06-2.06.94zm10 10l.94 2.06.94-2.06 2.06-.94-2.06-.94-.94-2.06-.94 2.06-2.06.94z\"/><path d=\"M17.41 7.96l-1.37-1.37c-.4-.4-.92-.59-1.43-.59-.52 0-1.04.2-1.43.59L10.3 9.45l-7.72 7.72c-.78.78-.78 2.05 0 2.83L4 21.41c.39.39.9.59 1.41.59.51 0 1.02-.2 1.41-.59l7.78-7.78 2.81-2.81c.8-.78.8-2.07 0-2.86zM5.41 20L4 18.59l7.72-7.72 1.47 1.35L5.41 20z\"/>\n",
              "  </svg>\n",
              "      </button>\n",
              "      \n",
              "  <style>\n",
              "    .colab-df-container {\n",
              "      display:flex;\n",
              "      flex-wrap:wrap;\n",
              "      gap: 12px;\n",
              "    }\n",
              "\n",
              "    .colab-df-convert {\n",
              "      background-color: #E8F0FE;\n",
              "      border: none;\n",
              "      border-radius: 50%;\n",
              "      cursor: pointer;\n",
              "      display: none;\n",
              "      fill: #1967D2;\n",
              "      height: 32px;\n",
              "      padding: 0 0 0 0;\n",
              "      width: 32px;\n",
              "    }\n",
              "\n",
              "    .colab-df-convert:hover {\n",
              "      background-color: #E2EBFA;\n",
              "      box-shadow: 0px 1px 2px rgba(60, 64, 67, 0.3), 0px 1px 3px 1px rgba(60, 64, 67, 0.15);\n",
              "      fill: #174EA6;\n",
              "    }\n",
              "\n",
              "    [theme=dark] .colab-df-convert {\n",
              "      background-color: #3B4455;\n",
              "      fill: #D2E3FC;\n",
              "    }\n",
              "\n",
              "    [theme=dark] .colab-df-convert:hover {\n",
              "      background-color: #434B5C;\n",
              "      box-shadow: 0px 1px 3px 1px rgba(0, 0, 0, 0.15);\n",
              "      filter: drop-shadow(0px 1px 2px rgba(0, 0, 0, 0.3));\n",
              "      fill: #FFFFFF;\n",
              "    }\n",
              "  </style>\n",
              "\n",
              "      <script>\n",
              "        const buttonEl =\n",
              "          document.querySelector('#df-8f24cf07-b382-4386-a6b3-6cf0cd3cd91f button.colab-df-convert');\n",
              "        buttonEl.style.display =\n",
              "          google.colab.kernel.accessAllowed ? 'block' : 'none';\n",
              "\n",
              "        async function convertToInteractive(key) {\n",
              "          const element = document.querySelector('#df-8f24cf07-b382-4386-a6b3-6cf0cd3cd91f');\n",
              "          const dataTable =\n",
              "            await google.colab.kernel.invokeFunction('convertToInteractive',\n",
              "                                                     [key], {});\n",
              "          if (!dataTable) return;\n",
              "\n",
              "          const docLinkHtml = 'Like what you see? Visit the ' +\n",
              "            '<a target=\"_blank\" href=https://colab.research.google.com/notebooks/data_table.ipynb>data table notebook</a>'\n",
              "            + ' to learn more about interactive tables.';\n",
              "          element.innerHTML = '';\n",
              "          dataTable['output_type'] = 'display_data';\n",
              "          await google.colab.output.renderOutput(dataTable, element);\n",
              "          const docLink = document.createElement('div');\n",
              "          docLink.innerHTML = docLinkHtml;\n",
              "          element.appendChild(docLink);\n",
              "        }\n",
              "      </script>\n",
              "    </div>\n",
              "  </div>\n",
              "  "
            ]
          },
          "metadata": {},
          "execution_count": 8
        }
      ]
    },
    {
      "cell_type": "code",
      "source": [
        "df.info()"
      ],
      "metadata": {
        "execution": {
          "iopub.status.busy": "2023-04-18T08:01:53.568960Z",
          "iopub.execute_input": "2023-04-18T08:01:53.569927Z",
          "iopub.status.idle": "2023-04-18T08:01:53.607685Z",
          "shell.execute_reply.started": "2023-04-18T08:01:53.569876Z",
          "shell.execute_reply": "2023-04-18T08:01:53.605980Z"
        },
        "trusted": true,
        "colab": {
          "base_uri": "https://localhost:8080/"
        },
        "id": "DybfYA9PZ5TA",
        "outputId": "a5358cf5-3978-4145-8d4d-8d7323f13f7a"
      },
      "execution_count": null,
      "outputs": [
        {
          "output_type": "stream",
          "name": "stdout",
          "text": [
            "<class 'pandas.core.frame.DataFrame'>\n",
            "RangeIndex: 5282 entries, 0 to 5281\n",
            "Data columns (total 20 columns):\n",
            " #   Column                    Non-Null Count  Dtype  \n",
            "---  ------                    --------------  -----  \n",
            " 0   ClientPeriod              5282 non-null   int64  \n",
            " 1   MonthlySpending           5282 non-null   float64\n",
            " 2   TotalSpent                5282 non-null   object \n",
            " 3   Sex                       5282 non-null   object \n",
            " 4   IsSeniorCitizen           5282 non-null   int64  \n",
            " 5   HasPartner                5282 non-null   object \n",
            " 6   HasChild                  5282 non-null   object \n",
            " 7   HasPhoneService           5282 non-null   object \n",
            " 8   HasMultiplePhoneNumbers   5282 non-null   object \n",
            " 9   HasInternetService        5282 non-null   object \n",
            " 10  HasOnlineSecurityService  5282 non-null   object \n",
            " 11  HasOnlineBackup           5282 non-null   object \n",
            " 12  HasDeviceProtection       5282 non-null   object \n",
            " 13  HasTechSupportAccess      5282 non-null   object \n",
            " 14  HasOnlineTV               5282 non-null   object \n",
            " 15  HasMovieSubscription      5282 non-null   object \n",
            " 16  HasContractPhone          5282 non-null   object \n",
            " 17  IsBillingPaperless        5282 non-null   object \n",
            " 18  PaymentMethod             5282 non-null   object \n",
            " 19  Churn                     5282 non-null   int64  \n",
            "dtypes: float64(1), int64(3), object(16)\n",
            "memory usage: 825.4+ KB\n"
          ]
        }
      ]
    },
    {
      "cell_type": "markdown",
      "source": [
        "5282 строк, 20 столбцов, пропусков нет, типы данных `TotalSpent` надо перевести в числовой"
      ],
      "metadata": {
        "id": "zy3-monuZ5TA"
      }
    },
    {
      "cell_type": "code",
      "source": [
        "test.sample(3)"
      ],
      "metadata": {
        "colab": {
          "base_uri": "https://localhost:8080/",
          "height": 242
        },
        "id": "N9WwTUT3bvD3",
        "outputId": "7338720e-e829-4fd3-d4de-f3688d2f38cc"
      },
      "execution_count": null,
      "outputs": [
        {
          "output_type": "execute_result",
          "data": {
            "text/plain": [
              "     ClientPeriod  MonthlySpending TotalSpent     Sex  IsSeniorCitizen  \\\n",
              "69              1            54.75      54.75  Female                0   \n",
              "183            11            20.95     267.35    Male                0   \n",
              "174             9            19.85      178.8    Male                0   \n",
              "\n",
              "    HasPartner HasChild HasPhoneService HasMultiplePhoneNumbers  \\\n",
              "69          No       No             Yes                      No   \n",
              "183        Yes      Yes             Yes                      No   \n",
              "174         No       No             Yes                      No   \n",
              "\n",
              "    HasInternetService HasOnlineSecurityService      HasOnlineBackup  \\\n",
              "69                 DSL                       No                   No   \n",
              "183                 No      No internet service  No internet service   \n",
              "174                 No      No internet service  No internet service   \n",
              "\n",
              "     HasDeviceProtection HasTechSupportAccess          HasOnlineTV  \\\n",
              "69                    No                   No                   No   \n",
              "183  No internet service  No internet service  No internet service   \n",
              "174  No internet service  No internet service  No internet service   \n",
              "\n",
              "    HasMovieSubscription HasContractPhone IsBillingPaperless  \\\n",
              "69                   Yes   Month-to-month                Yes   \n",
              "183  No internet service   Month-to-month                 No   \n",
              "174  No internet service   Month-to-month                 No   \n",
              "\n",
              "                 PaymentMethod  \n",
              "69                Mailed check  \n",
              "183  Bank transfer (automatic)  \n",
              "174               Mailed check  "
            ],
            "text/html": [
              "\n",
              "  <div id=\"df-070d4809-d0eb-4ad2-aa8d-824947521c7b\">\n",
              "    <div class=\"colab-df-container\">\n",
              "      <div>\n",
              "<style scoped>\n",
              "    .dataframe tbody tr th:only-of-type {\n",
              "        vertical-align: middle;\n",
              "    }\n",
              "\n",
              "    .dataframe tbody tr th {\n",
              "        vertical-align: top;\n",
              "    }\n",
              "\n",
              "    .dataframe thead th {\n",
              "        text-align: right;\n",
              "    }\n",
              "</style>\n",
              "<table border=\"1\" class=\"dataframe\">\n",
              "  <thead>\n",
              "    <tr style=\"text-align: right;\">\n",
              "      <th></th>\n",
              "      <th>ClientPeriod</th>\n",
              "      <th>MonthlySpending</th>\n",
              "      <th>TotalSpent</th>\n",
              "      <th>Sex</th>\n",
              "      <th>IsSeniorCitizen</th>\n",
              "      <th>HasPartner</th>\n",
              "      <th>HasChild</th>\n",
              "      <th>HasPhoneService</th>\n",
              "      <th>HasMultiplePhoneNumbers</th>\n",
              "      <th>HasInternetService</th>\n",
              "      <th>HasOnlineSecurityService</th>\n",
              "      <th>HasOnlineBackup</th>\n",
              "      <th>HasDeviceProtection</th>\n",
              "      <th>HasTechSupportAccess</th>\n",
              "      <th>HasOnlineTV</th>\n",
              "      <th>HasMovieSubscription</th>\n",
              "      <th>HasContractPhone</th>\n",
              "      <th>IsBillingPaperless</th>\n",
              "      <th>PaymentMethod</th>\n",
              "    </tr>\n",
              "  </thead>\n",
              "  <tbody>\n",
              "    <tr>\n",
              "      <th>69</th>\n",
              "      <td>1</td>\n",
              "      <td>54.75</td>\n",
              "      <td>54.75</td>\n",
              "      <td>Female</td>\n",
              "      <td>0</td>\n",
              "      <td>No</td>\n",
              "      <td>No</td>\n",
              "      <td>Yes</td>\n",
              "      <td>No</td>\n",
              "      <td>DSL</td>\n",
              "      <td>No</td>\n",
              "      <td>No</td>\n",
              "      <td>No</td>\n",
              "      <td>No</td>\n",
              "      <td>No</td>\n",
              "      <td>Yes</td>\n",
              "      <td>Month-to-month</td>\n",
              "      <td>Yes</td>\n",
              "      <td>Mailed check</td>\n",
              "    </tr>\n",
              "    <tr>\n",
              "      <th>183</th>\n",
              "      <td>11</td>\n",
              "      <td>20.95</td>\n",
              "      <td>267.35</td>\n",
              "      <td>Male</td>\n",
              "      <td>0</td>\n",
              "      <td>Yes</td>\n",
              "      <td>Yes</td>\n",
              "      <td>Yes</td>\n",
              "      <td>No</td>\n",
              "      <td>No</td>\n",
              "      <td>No internet service</td>\n",
              "      <td>No internet service</td>\n",
              "      <td>No internet service</td>\n",
              "      <td>No internet service</td>\n",
              "      <td>No internet service</td>\n",
              "      <td>No internet service</td>\n",
              "      <td>Month-to-month</td>\n",
              "      <td>No</td>\n",
              "      <td>Bank transfer (automatic)</td>\n",
              "    </tr>\n",
              "    <tr>\n",
              "      <th>174</th>\n",
              "      <td>9</td>\n",
              "      <td>19.85</td>\n",
              "      <td>178.8</td>\n",
              "      <td>Male</td>\n",
              "      <td>0</td>\n",
              "      <td>No</td>\n",
              "      <td>No</td>\n",
              "      <td>Yes</td>\n",
              "      <td>No</td>\n",
              "      <td>No</td>\n",
              "      <td>No internet service</td>\n",
              "      <td>No internet service</td>\n",
              "      <td>No internet service</td>\n",
              "      <td>No internet service</td>\n",
              "      <td>No internet service</td>\n",
              "      <td>No internet service</td>\n",
              "      <td>Month-to-month</td>\n",
              "      <td>No</td>\n",
              "      <td>Mailed check</td>\n",
              "    </tr>\n",
              "  </tbody>\n",
              "</table>\n",
              "</div>\n",
              "      <button class=\"colab-df-convert\" onclick=\"convertToInteractive('df-070d4809-d0eb-4ad2-aa8d-824947521c7b')\"\n",
              "              title=\"Convert this dataframe to an interactive table.\"\n",
              "              style=\"display:none;\">\n",
              "        \n",
              "  <svg xmlns=\"http://www.w3.org/2000/svg\" height=\"24px\"viewBox=\"0 0 24 24\"\n",
              "       width=\"24px\">\n",
              "    <path d=\"M0 0h24v24H0V0z\" fill=\"none\"/>\n",
              "    <path d=\"M18.56 5.44l.94 2.06.94-2.06 2.06-.94-2.06-.94-.94-2.06-.94 2.06-2.06.94zm-11 1L8.5 8.5l.94-2.06 2.06-.94-2.06-.94L8.5 2.5l-.94 2.06-2.06.94zm10 10l.94 2.06.94-2.06 2.06-.94-2.06-.94-.94-2.06-.94 2.06-2.06.94z\"/><path d=\"M17.41 7.96l-1.37-1.37c-.4-.4-.92-.59-1.43-.59-.52 0-1.04.2-1.43.59L10.3 9.45l-7.72 7.72c-.78.78-.78 2.05 0 2.83L4 21.41c.39.39.9.59 1.41.59.51 0 1.02-.2 1.41-.59l7.78-7.78 2.81-2.81c.8-.78.8-2.07 0-2.86zM5.41 20L4 18.59l7.72-7.72 1.47 1.35L5.41 20z\"/>\n",
              "  </svg>\n",
              "      </button>\n",
              "      \n",
              "  <style>\n",
              "    .colab-df-container {\n",
              "      display:flex;\n",
              "      flex-wrap:wrap;\n",
              "      gap: 12px;\n",
              "    }\n",
              "\n",
              "    .colab-df-convert {\n",
              "      background-color: #E8F0FE;\n",
              "      border: none;\n",
              "      border-radius: 50%;\n",
              "      cursor: pointer;\n",
              "      display: none;\n",
              "      fill: #1967D2;\n",
              "      height: 32px;\n",
              "      padding: 0 0 0 0;\n",
              "      width: 32px;\n",
              "    }\n",
              "\n",
              "    .colab-df-convert:hover {\n",
              "      background-color: #E2EBFA;\n",
              "      box-shadow: 0px 1px 2px rgba(60, 64, 67, 0.3), 0px 1px 3px 1px rgba(60, 64, 67, 0.15);\n",
              "      fill: #174EA6;\n",
              "    }\n",
              "\n",
              "    [theme=dark] .colab-df-convert {\n",
              "      background-color: #3B4455;\n",
              "      fill: #D2E3FC;\n",
              "    }\n",
              "\n",
              "    [theme=dark] .colab-df-convert:hover {\n",
              "      background-color: #434B5C;\n",
              "      box-shadow: 0px 1px 3px 1px rgba(0, 0, 0, 0.15);\n",
              "      filter: drop-shadow(0px 1px 2px rgba(0, 0, 0, 0.3));\n",
              "      fill: #FFFFFF;\n",
              "    }\n",
              "  </style>\n",
              "\n",
              "      <script>\n",
              "        const buttonEl =\n",
              "          document.querySelector('#df-070d4809-d0eb-4ad2-aa8d-824947521c7b button.colab-df-convert');\n",
              "        buttonEl.style.display =\n",
              "          google.colab.kernel.accessAllowed ? 'block' : 'none';\n",
              "\n",
              "        async function convertToInteractive(key) {\n",
              "          const element = document.querySelector('#df-070d4809-d0eb-4ad2-aa8d-824947521c7b');\n",
              "          const dataTable =\n",
              "            await google.colab.kernel.invokeFunction('convertToInteractive',\n",
              "                                                     [key], {});\n",
              "          if (!dataTable) return;\n",
              "\n",
              "          const docLinkHtml = 'Like what you see? Visit the ' +\n",
              "            '<a target=\"_blank\" href=https://colab.research.google.com/notebooks/data_table.ipynb>data table notebook</a>'\n",
              "            + ' to learn more about interactive tables.';\n",
              "          element.innerHTML = '';\n",
              "          dataTable['output_type'] = 'display_data';\n",
              "          await google.colab.output.renderOutput(dataTable, element);\n",
              "          const docLink = document.createElement('div');\n",
              "          docLink.innerHTML = docLinkHtml;\n",
              "          element.appendChild(docLink);\n",
              "        }\n",
              "      </script>\n",
              "    </div>\n",
              "  </div>\n",
              "  "
            ]
          },
          "metadata": {},
          "execution_count": 10
        }
      ]
    },
    {
      "cell_type": "code",
      "source": [
        "test.info()"
      ],
      "metadata": {
        "execution": {
          "iopub.status.busy": "2023-04-18T08:01:53.614399Z",
          "iopub.execute_input": "2023-04-18T08:01:53.615441Z",
          "iopub.status.idle": "2023-04-18T08:01:53.633315Z",
          "shell.execute_reply.started": "2023-04-18T08:01:53.615389Z",
          "shell.execute_reply": "2023-04-18T08:01:53.631824Z"
        },
        "trusted": true,
        "colab": {
          "base_uri": "https://localhost:8080/"
        },
        "id": "VBG3ll5zZ5TA",
        "outputId": "443ae89d-eeb1-4f85-91c0-a9fa293788e6"
      },
      "execution_count": null,
      "outputs": [
        {
          "output_type": "stream",
          "name": "stdout",
          "text": [
            "<class 'pandas.core.frame.DataFrame'>\n",
            "RangeIndex: 1761 entries, 0 to 1760\n",
            "Data columns (total 19 columns):\n",
            " #   Column                    Non-Null Count  Dtype  \n",
            "---  ------                    --------------  -----  \n",
            " 0   ClientPeriod              1761 non-null   int64  \n",
            " 1   MonthlySpending           1761 non-null   float64\n",
            " 2   TotalSpent                1761 non-null   object \n",
            " 3   Sex                       1761 non-null   object \n",
            " 4   IsSeniorCitizen           1761 non-null   int64  \n",
            " 5   HasPartner                1761 non-null   object \n",
            " 6   HasChild                  1761 non-null   object \n",
            " 7   HasPhoneService           1761 non-null   object \n",
            " 8   HasMultiplePhoneNumbers   1761 non-null   object \n",
            " 9   HasInternetService        1761 non-null   object \n",
            " 10  HasOnlineSecurityService  1761 non-null   object \n",
            " 11  HasOnlineBackup           1761 non-null   object \n",
            " 12  HasDeviceProtection       1761 non-null   object \n",
            " 13  HasTechSupportAccess      1761 non-null   object \n",
            " 14  HasOnlineTV               1761 non-null   object \n",
            " 15  HasMovieSubscription      1761 non-null   object \n",
            " 16  HasContractPhone          1761 non-null   object \n",
            " 17  IsBillingPaperless        1761 non-null   object \n",
            " 18  PaymentMethod             1761 non-null   object \n",
            "dtypes: float64(1), int64(2), object(16)\n",
            "memory usage: 261.5+ KB\n"
          ]
        }
      ]
    },
    {
      "cell_type": "markdown",
      "source": [
        "1761 строк, 16 столбцов, пропусков нет, типы данных TotalSpent надо перевести в числовой"
      ],
      "metadata": {
        "id": "_Jy13ts9Z5TA"
      }
    },
    {
      "cell_type": "code",
      "source": [
        "df['TotalSpent'] = pd.to_numeric(df['TotalSpent'], errors='coerce')"
      ],
      "metadata": {
        "execution": {
          "iopub.status.busy": "2023-04-18T08:01:53.635490Z",
          "iopub.execute_input": "2023-04-18T08:01:53.636027Z",
          "iopub.status.idle": "2023-04-18T08:01:53.651245Z",
          "shell.execute_reply.started": "2023-04-18T08:01:53.635972Z",
          "shell.execute_reply": "2023-04-18T08:01:53.649868Z"
        },
        "trusted": true,
        "id": "r-rW37uGZ5TA"
      },
      "execution_count": null,
      "outputs": []
    },
    {
      "cell_type": "code",
      "source": [
        "(df.isna().agg(['sum', 'mean'])\n",
        "    .style.set_caption('Количество пропусков')\n",
        "    .set_table_styles([{'selector': 'caption',\n",
        "                     'props': [('color', 'black'), ('font-size', '15px')]\n",
        "                     }]))"
      ],
      "metadata": {
        "execution": {
          "iopub.status.busy": "2023-04-18T08:01:53.653316Z",
          "iopub.execute_input": "2023-04-18T08:01:53.653857Z",
          "iopub.status.idle": "2023-04-18T08:01:53.781266Z",
          "shell.execute_reply.started": "2023-04-18T08:01:53.653784Z",
          "shell.execute_reply": "2023-04-18T08:01:53.779735Z"
        },
        "trusted": true,
        "colab": {
          "base_uri": "https://localhost:8080/",
          "height": 151
        },
        "id": "AyaIqVUHZ5TB",
        "outputId": "da3cd0d1-52a6-4377-caef-181b2607b446"
      },
      "execution_count": null,
      "outputs": [
        {
          "output_type": "execute_result",
          "data": {
            "text/plain": [
              "<pandas.io.formats.style.Styler at 0x7f9ce504e430>"
            ],
            "text/html": [
              "<style type=\"text/css\">\n",
              "#T_b2d3a caption {\n",
              "  color: black;\n",
              "  font-size: 15px;\n",
              "}\n",
              "</style>\n",
              "<table id=\"T_b2d3a\" class=\"dataframe\">\n",
              "  <caption>Количество пропусков</caption>\n",
              "  <thead>\n",
              "    <tr>\n",
              "      <th class=\"blank level0\" >&nbsp;</th>\n",
              "      <th id=\"T_b2d3a_level0_col0\" class=\"col_heading level0 col0\" >ClientPeriod</th>\n",
              "      <th id=\"T_b2d3a_level0_col1\" class=\"col_heading level0 col1\" >MonthlySpending</th>\n",
              "      <th id=\"T_b2d3a_level0_col2\" class=\"col_heading level0 col2\" >TotalSpent</th>\n",
              "      <th id=\"T_b2d3a_level0_col3\" class=\"col_heading level0 col3\" >Sex</th>\n",
              "      <th id=\"T_b2d3a_level0_col4\" class=\"col_heading level0 col4\" >IsSeniorCitizen</th>\n",
              "      <th id=\"T_b2d3a_level0_col5\" class=\"col_heading level0 col5\" >HasPartner</th>\n",
              "      <th id=\"T_b2d3a_level0_col6\" class=\"col_heading level0 col6\" >HasChild</th>\n",
              "      <th id=\"T_b2d3a_level0_col7\" class=\"col_heading level0 col7\" >HasPhoneService</th>\n",
              "      <th id=\"T_b2d3a_level0_col8\" class=\"col_heading level0 col8\" >HasMultiplePhoneNumbers</th>\n",
              "      <th id=\"T_b2d3a_level0_col9\" class=\"col_heading level0 col9\" >HasInternetService</th>\n",
              "      <th id=\"T_b2d3a_level0_col10\" class=\"col_heading level0 col10\" >HasOnlineSecurityService</th>\n",
              "      <th id=\"T_b2d3a_level0_col11\" class=\"col_heading level0 col11\" >HasOnlineBackup</th>\n",
              "      <th id=\"T_b2d3a_level0_col12\" class=\"col_heading level0 col12\" >HasDeviceProtection</th>\n",
              "      <th id=\"T_b2d3a_level0_col13\" class=\"col_heading level0 col13\" >HasTechSupportAccess</th>\n",
              "      <th id=\"T_b2d3a_level0_col14\" class=\"col_heading level0 col14\" >HasOnlineTV</th>\n",
              "      <th id=\"T_b2d3a_level0_col15\" class=\"col_heading level0 col15\" >HasMovieSubscription</th>\n",
              "      <th id=\"T_b2d3a_level0_col16\" class=\"col_heading level0 col16\" >HasContractPhone</th>\n",
              "      <th id=\"T_b2d3a_level0_col17\" class=\"col_heading level0 col17\" >IsBillingPaperless</th>\n",
              "      <th id=\"T_b2d3a_level0_col18\" class=\"col_heading level0 col18\" >PaymentMethod</th>\n",
              "      <th id=\"T_b2d3a_level0_col19\" class=\"col_heading level0 col19\" >Churn</th>\n",
              "    </tr>\n",
              "  </thead>\n",
              "  <tbody>\n",
              "    <tr>\n",
              "      <th id=\"T_b2d3a_level0_row0\" class=\"row_heading level0 row0\" >sum</th>\n",
              "      <td id=\"T_b2d3a_row0_col0\" class=\"data row0 col0\" >0.000000</td>\n",
              "      <td id=\"T_b2d3a_row0_col1\" class=\"data row0 col1\" >0.000000</td>\n",
              "      <td id=\"T_b2d3a_row0_col2\" class=\"data row0 col2\" >9.000000</td>\n",
              "      <td id=\"T_b2d3a_row0_col3\" class=\"data row0 col3\" >0.000000</td>\n",
              "      <td id=\"T_b2d3a_row0_col4\" class=\"data row0 col4\" >0.000000</td>\n",
              "      <td id=\"T_b2d3a_row0_col5\" class=\"data row0 col5\" >0.000000</td>\n",
              "      <td id=\"T_b2d3a_row0_col6\" class=\"data row0 col6\" >0.000000</td>\n",
              "      <td id=\"T_b2d3a_row0_col7\" class=\"data row0 col7\" >0.000000</td>\n",
              "      <td id=\"T_b2d3a_row0_col8\" class=\"data row0 col8\" >0.000000</td>\n",
              "      <td id=\"T_b2d3a_row0_col9\" class=\"data row0 col9\" >0.000000</td>\n",
              "      <td id=\"T_b2d3a_row0_col10\" class=\"data row0 col10\" >0.000000</td>\n",
              "      <td id=\"T_b2d3a_row0_col11\" class=\"data row0 col11\" >0.000000</td>\n",
              "      <td id=\"T_b2d3a_row0_col12\" class=\"data row0 col12\" >0.000000</td>\n",
              "      <td id=\"T_b2d3a_row0_col13\" class=\"data row0 col13\" >0.000000</td>\n",
              "      <td id=\"T_b2d3a_row0_col14\" class=\"data row0 col14\" >0.000000</td>\n",
              "      <td id=\"T_b2d3a_row0_col15\" class=\"data row0 col15\" >0.000000</td>\n",
              "      <td id=\"T_b2d3a_row0_col16\" class=\"data row0 col16\" >0.000000</td>\n",
              "      <td id=\"T_b2d3a_row0_col17\" class=\"data row0 col17\" >0.000000</td>\n",
              "      <td id=\"T_b2d3a_row0_col18\" class=\"data row0 col18\" >0.000000</td>\n",
              "      <td id=\"T_b2d3a_row0_col19\" class=\"data row0 col19\" >0.000000</td>\n",
              "    </tr>\n",
              "    <tr>\n",
              "      <th id=\"T_b2d3a_level0_row1\" class=\"row_heading level0 row1\" >mean</th>\n",
              "      <td id=\"T_b2d3a_row1_col0\" class=\"data row1 col0\" >0.000000</td>\n",
              "      <td id=\"T_b2d3a_row1_col1\" class=\"data row1 col1\" >0.000000</td>\n",
              "      <td id=\"T_b2d3a_row1_col2\" class=\"data row1 col2\" >0.001704</td>\n",
              "      <td id=\"T_b2d3a_row1_col3\" class=\"data row1 col3\" >0.000000</td>\n",
              "      <td id=\"T_b2d3a_row1_col4\" class=\"data row1 col4\" >0.000000</td>\n",
              "      <td id=\"T_b2d3a_row1_col5\" class=\"data row1 col5\" >0.000000</td>\n",
              "      <td id=\"T_b2d3a_row1_col6\" class=\"data row1 col6\" >0.000000</td>\n",
              "      <td id=\"T_b2d3a_row1_col7\" class=\"data row1 col7\" >0.000000</td>\n",
              "      <td id=\"T_b2d3a_row1_col8\" class=\"data row1 col8\" >0.000000</td>\n",
              "      <td id=\"T_b2d3a_row1_col9\" class=\"data row1 col9\" >0.000000</td>\n",
              "      <td id=\"T_b2d3a_row1_col10\" class=\"data row1 col10\" >0.000000</td>\n",
              "      <td id=\"T_b2d3a_row1_col11\" class=\"data row1 col11\" >0.000000</td>\n",
              "      <td id=\"T_b2d3a_row1_col12\" class=\"data row1 col12\" >0.000000</td>\n",
              "      <td id=\"T_b2d3a_row1_col13\" class=\"data row1 col13\" >0.000000</td>\n",
              "      <td id=\"T_b2d3a_row1_col14\" class=\"data row1 col14\" >0.000000</td>\n",
              "      <td id=\"T_b2d3a_row1_col15\" class=\"data row1 col15\" >0.000000</td>\n",
              "      <td id=\"T_b2d3a_row1_col16\" class=\"data row1 col16\" >0.000000</td>\n",
              "      <td id=\"T_b2d3a_row1_col17\" class=\"data row1 col17\" >0.000000</td>\n",
              "      <td id=\"T_b2d3a_row1_col18\" class=\"data row1 col18\" >0.000000</td>\n",
              "      <td id=\"T_b2d3a_row1_col19\" class=\"data row1 col19\" >0.000000</td>\n",
              "    </tr>\n",
              "  </tbody>\n",
              "</table>\n"
            ]
          },
          "metadata": {},
          "execution_count": 13
        }
      ]
    },
    {
      "cell_type": "code",
      "source": [
        "df['TotalSpent'].agg({'mean', 'median'})"
      ],
      "metadata": {
        "execution": {
          "iopub.status.busy": "2023-04-18T08:01:53.783020Z",
          "iopub.execute_input": "2023-04-18T08:01:53.783419Z",
          "iopub.status.idle": "2023-04-18T08:01:53.798488Z",
          "shell.execute_reply.started": "2023-04-18T08:01:53.783380Z",
          "shell.execute_reply": "2023-04-18T08:01:53.796575Z"
        },
        "trusted": true,
        "colab": {
          "base_uri": "https://localhost:8080/"
        },
        "id": "r-wmCZ6JZ5TB",
        "outputId": "2c2da512-f9d6-446d-ae5e-430c52bdbd39"
      },
      "execution_count": null,
      "outputs": [
        {
          "output_type": "execute_result",
          "data": {
            "text/plain": [
              "mean      2291.390461\n",
              "median    1410.250000\n",
              "Name: TotalSpent, dtype: float64"
            ]
          },
          "metadata": {},
          "execution_count": 14
        }
      ]
    },
    {
      "cell_type": "code",
      "source": [
        "df[df['TotalSpent'].isna()]"
      ],
      "metadata": {
        "execution": {
          "iopub.status.busy": "2023-04-18T08:01:53.801223Z",
          "iopub.execute_input": "2023-04-18T08:01:53.801812Z",
          "iopub.status.idle": "2023-04-18T08:01:53.834717Z",
          "shell.execute_reply.started": "2023-04-18T08:01:53.801735Z",
          "shell.execute_reply": "2023-04-18T08:01:53.832858Z"
        },
        "trusted": true,
        "colab": {
          "base_uri": "https://localhost:8080/",
          "height": 517
        },
        "id": "vJKMamOxZ5TB",
        "outputId": "56d6ff84-8f49-4f39-85d5-61de2d002d51"
      },
      "execution_count": null,
      "outputs": [
        {
          "output_type": "execute_result",
          "data": {
            "text/plain": [
              "      ClientPeriod  MonthlySpending  TotalSpent     Sex  IsSeniorCitizen  \\\n",
              "1048             0            25.75         NaN    Male                0   \n",
              "1707             0            73.35         NaN  Female                0   \n",
              "2543             0            19.70         NaN    Male                0   \n",
              "3078             0            80.85         NaN  Female                0   \n",
              "3697             0            20.00         NaN  Female                0   \n",
              "4002             0            61.90         NaN    Male                0   \n",
              "4326             0            25.35         NaN    Male                0   \n",
              "4551             0            52.55         NaN  Female                0   \n",
              "4598             0            56.05         NaN  Female                0   \n",
              "\n",
              "     HasPartner HasChild HasPhoneService HasMultiplePhoneNumbers  \\\n",
              "1048        Yes      Yes             Yes                     Yes   \n",
              "1707        Yes      Yes             Yes                     Yes   \n",
              "2543        Yes      Yes             Yes                      No   \n",
              "3078        Yes      Yes             Yes                      No   \n",
              "3697        Yes      Yes             Yes                      No   \n",
              "4002         No      Yes             Yes                     Yes   \n",
              "4326        Yes      Yes             Yes                     Yes   \n",
              "4551        Yes      Yes              No        No phone service   \n",
              "4598        Yes      Yes              No        No phone service   \n",
              "\n",
              "     HasInternetService HasOnlineSecurityService      HasOnlineBackup  \\\n",
              "1048                 No      No internet service  No internet service   \n",
              "1707                DSL                       No                  Yes   \n",
              "2543                 No      No internet service  No internet service   \n",
              "3078                DSL                      Yes                  Yes   \n",
              "3697                 No      No internet service  No internet service   \n",
              "4002                DSL                      Yes                  Yes   \n",
              "4326                 No      No internet service  No internet service   \n",
              "4551                DSL                      Yes                   No   \n",
              "4598                DSL                      Yes                  Yes   \n",
              "\n",
              "      HasDeviceProtection HasTechSupportAccess          HasOnlineTV  \\\n",
              "1048  No internet service  No internet service  No internet service   \n",
              "1707                  Yes                  Yes                  Yes   \n",
              "2543  No internet service  No internet service  No internet service   \n",
              "3078                  Yes                   No                  Yes   \n",
              "3697  No internet service  No internet service  No internet service   \n",
              "4002                   No                  Yes                   No   \n",
              "4326  No internet service  No internet service  No internet service   \n",
              "4551                  Yes                  Yes                  Yes   \n",
              "4598                  Yes                  Yes                  Yes   \n",
              "\n",
              "     HasMovieSubscription HasContractPhone IsBillingPaperless  \\\n",
              "1048  No internet service         Two year                 No   \n",
              "1707                   No         Two year                 No   \n",
              "2543  No internet service         One year                Yes   \n",
              "3078                  Yes         Two year                 No   \n",
              "3697  No internet service         Two year                 No   \n",
              "4002                   No         Two year                Yes   \n",
              "4326  No internet service         Two year                 No   \n",
              "4551                   No         Two year                Yes   \n",
              "4598                   No         Two year                 No   \n",
              "\n",
              "                  PaymentMethod  Churn  \n",
              "1048               Mailed check      0  \n",
              "1707               Mailed check      0  \n",
              "2543               Mailed check      0  \n",
              "3078               Mailed check      0  \n",
              "3697               Mailed check      0  \n",
              "4002  Bank transfer (automatic)      0  \n",
              "4326               Mailed check      0  \n",
              "4551  Bank transfer (automatic)      0  \n",
              "4598    Credit card (automatic)      0  "
            ],
            "text/html": [
              "\n",
              "  <div id=\"df-5e078147-3064-46d6-824f-284432a94f62\">\n",
              "    <div class=\"colab-df-container\">\n",
              "      <div>\n",
              "<style scoped>\n",
              "    .dataframe tbody tr th:only-of-type {\n",
              "        vertical-align: middle;\n",
              "    }\n",
              "\n",
              "    .dataframe tbody tr th {\n",
              "        vertical-align: top;\n",
              "    }\n",
              "\n",
              "    .dataframe thead th {\n",
              "        text-align: right;\n",
              "    }\n",
              "</style>\n",
              "<table border=\"1\" class=\"dataframe\">\n",
              "  <thead>\n",
              "    <tr style=\"text-align: right;\">\n",
              "      <th></th>\n",
              "      <th>ClientPeriod</th>\n",
              "      <th>MonthlySpending</th>\n",
              "      <th>TotalSpent</th>\n",
              "      <th>Sex</th>\n",
              "      <th>IsSeniorCitizen</th>\n",
              "      <th>HasPartner</th>\n",
              "      <th>HasChild</th>\n",
              "      <th>HasPhoneService</th>\n",
              "      <th>HasMultiplePhoneNumbers</th>\n",
              "      <th>HasInternetService</th>\n",
              "      <th>HasOnlineSecurityService</th>\n",
              "      <th>HasOnlineBackup</th>\n",
              "      <th>HasDeviceProtection</th>\n",
              "      <th>HasTechSupportAccess</th>\n",
              "      <th>HasOnlineTV</th>\n",
              "      <th>HasMovieSubscription</th>\n",
              "      <th>HasContractPhone</th>\n",
              "      <th>IsBillingPaperless</th>\n",
              "      <th>PaymentMethod</th>\n",
              "      <th>Churn</th>\n",
              "    </tr>\n",
              "  </thead>\n",
              "  <tbody>\n",
              "    <tr>\n",
              "      <th>1048</th>\n",
              "      <td>0</td>\n",
              "      <td>25.75</td>\n",
              "      <td>NaN</td>\n",
              "      <td>Male</td>\n",
              "      <td>0</td>\n",
              "      <td>Yes</td>\n",
              "      <td>Yes</td>\n",
              "      <td>Yes</td>\n",
              "      <td>Yes</td>\n",
              "      <td>No</td>\n",
              "      <td>No internet service</td>\n",
              "      <td>No internet service</td>\n",
              "      <td>No internet service</td>\n",
              "      <td>No internet service</td>\n",
              "      <td>No internet service</td>\n",
              "      <td>No internet service</td>\n",
              "      <td>Two year</td>\n",
              "      <td>No</td>\n",
              "      <td>Mailed check</td>\n",
              "      <td>0</td>\n",
              "    </tr>\n",
              "    <tr>\n",
              "      <th>1707</th>\n",
              "      <td>0</td>\n",
              "      <td>73.35</td>\n",
              "      <td>NaN</td>\n",
              "      <td>Female</td>\n",
              "      <td>0</td>\n",
              "      <td>Yes</td>\n",
              "      <td>Yes</td>\n",
              "      <td>Yes</td>\n",
              "      <td>Yes</td>\n",
              "      <td>DSL</td>\n",
              "      <td>No</td>\n",
              "      <td>Yes</td>\n",
              "      <td>Yes</td>\n",
              "      <td>Yes</td>\n",
              "      <td>Yes</td>\n",
              "      <td>No</td>\n",
              "      <td>Two year</td>\n",
              "      <td>No</td>\n",
              "      <td>Mailed check</td>\n",
              "      <td>0</td>\n",
              "    </tr>\n",
              "    <tr>\n",
              "      <th>2543</th>\n",
              "      <td>0</td>\n",
              "      <td>19.70</td>\n",
              "      <td>NaN</td>\n",
              "      <td>Male</td>\n",
              "      <td>0</td>\n",
              "      <td>Yes</td>\n",
              "      <td>Yes</td>\n",
              "      <td>Yes</td>\n",
              "      <td>No</td>\n",
              "      <td>No</td>\n",
              "      <td>No internet service</td>\n",
              "      <td>No internet service</td>\n",
              "      <td>No internet service</td>\n",
              "      <td>No internet service</td>\n",
              "      <td>No internet service</td>\n",
              "      <td>No internet service</td>\n",
              "      <td>One year</td>\n",
              "      <td>Yes</td>\n",
              "      <td>Mailed check</td>\n",
              "      <td>0</td>\n",
              "    </tr>\n",
              "    <tr>\n",
              "      <th>3078</th>\n",
              "      <td>0</td>\n",
              "      <td>80.85</td>\n",
              "      <td>NaN</td>\n",
              "      <td>Female</td>\n",
              "      <td>0</td>\n",
              "      <td>Yes</td>\n",
              "      <td>Yes</td>\n",
              "      <td>Yes</td>\n",
              "      <td>No</td>\n",
              "      <td>DSL</td>\n",
              "      <td>Yes</td>\n",
              "      <td>Yes</td>\n",
              "      <td>Yes</td>\n",
              "      <td>No</td>\n",
              "      <td>Yes</td>\n",
              "      <td>Yes</td>\n",
              "      <td>Two year</td>\n",
              "      <td>No</td>\n",
              "      <td>Mailed check</td>\n",
              "      <td>0</td>\n",
              "    </tr>\n",
              "    <tr>\n",
              "      <th>3697</th>\n",
              "      <td>0</td>\n",
              "      <td>20.00</td>\n",
              "      <td>NaN</td>\n",
              "      <td>Female</td>\n",
              "      <td>0</td>\n",
              "      <td>Yes</td>\n",
              "      <td>Yes</td>\n",
              "      <td>Yes</td>\n",
              "      <td>No</td>\n",
              "      <td>No</td>\n",
              "      <td>No internet service</td>\n",
              "      <td>No internet service</td>\n",
              "      <td>No internet service</td>\n",
              "      <td>No internet service</td>\n",
              "      <td>No internet service</td>\n",
              "      <td>No internet service</td>\n",
              "      <td>Two year</td>\n",
              "      <td>No</td>\n",
              "      <td>Mailed check</td>\n",
              "      <td>0</td>\n",
              "    </tr>\n",
              "    <tr>\n",
              "      <th>4002</th>\n",
              "      <td>0</td>\n",
              "      <td>61.90</td>\n",
              "      <td>NaN</td>\n",
              "      <td>Male</td>\n",
              "      <td>0</td>\n",
              "      <td>No</td>\n",
              "      <td>Yes</td>\n",
              "      <td>Yes</td>\n",
              "      <td>Yes</td>\n",
              "      <td>DSL</td>\n",
              "      <td>Yes</td>\n",
              "      <td>Yes</td>\n",
              "      <td>No</td>\n",
              "      <td>Yes</td>\n",
              "      <td>No</td>\n",
              "      <td>No</td>\n",
              "      <td>Two year</td>\n",
              "      <td>Yes</td>\n",
              "      <td>Bank transfer (automatic)</td>\n",
              "      <td>0</td>\n",
              "    </tr>\n",
              "    <tr>\n",
              "      <th>4326</th>\n",
              "      <td>0</td>\n",
              "      <td>25.35</td>\n",
              "      <td>NaN</td>\n",
              "      <td>Male</td>\n",
              "      <td>0</td>\n",
              "      <td>Yes</td>\n",
              "      <td>Yes</td>\n",
              "      <td>Yes</td>\n",
              "      <td>Yes</td>\n",
              "      <td>No</td>\n",
              "      <td>No internet service</td>\n",
              "      <td>No internet service</td>\n",
              "      <td>No internet service</td>\n",
              "      <td>No internet service</td>\n",
              "      <td>No internet service</td>\n",
              "      <td>No internet service</td>\n",
              "      <td>Two year</td>\n",
              "      <td>No</td>\n",
              "      <td>Mailed check</td>\n",
              "      <td>0</td>\n",
              "    </tr>\n",
              "    <tr>\n",
              "      <th>4551</th>\n",
              "      <td>0</td>\n",
              "      <td>52.55</td>\n",
              "      <td>NaN</td>\n",
              "      <td>Female</td>\n",
              "      <td>0</td>\n",
              "      <td>Yes</td>\n",
              "      <td>Yes</td>\n",
              "      <td>No</td>\n",
              "      <td>No phone service</td>\n",
              "      <td>DSL</td>\n",
              "      <td>Yes</td>\n",
              "      <td>No</td>\n",
              "      <td>Yes</td>\n",
              "      <td>Yes</td>\n",
              "      <td>Yes</td>\n",
              "      <td>No</td>\n",
              "      <td>Two year</td>\n",
              "      <td>Yes</td>\n",
              "      <td>Bank transfer (automatic)</td>\n",
              "      <td>0</td>\n",
              "    </tr>\n",
              "    <tr>\n",
              "      <th>4598</th>\n",
              "      <td>0</td>\n",
              "      <td>56.05</td>\n",
              "      <td>NaN</td>\n",
              "      <td>Female</td>\n",
              "      <td>0</td>\n",
              "      <td>Yes</td>\n",
              "      <td>Yes</td>\n",
              "      <td>No</td>\n",
              "      <td>No phone service</td>\n",
              "      <td>DSL</td>\n",
              "      <td>Yes</td>\n",
              "      <td>Yes</td>\n",
              "      <td>Yes</td>\n",
              "      <td>Yes</td>\n",
              "      <td>Yes</td>\n",
              "      <td>No</td>\n",
              "      <td>Two year</td>\n",
              "      <td>No</td>\n",
              "      <td>Credit card (automatic)</td>\n",
              "      <td>0</td>\n",
              "    </tr>\n",
              "  </tbody>\n",
              "</table>\n",
              "</div>\n",
              "      <button class=\"colab-df-convert\" onclick=\"convertToInteractive('df-5e078147-3064-46d6-824f-284432a94f62')\"\n",
              "              title=\"Convert this dataframe to an interactive table.\"\n",
              "              style=\"display:none;\">\n",
              "        \n",
              "  <svg xmlns=\"http://www.w3.org/2000/svg\" height=\"24px\"viewBox=\"0 0 24 24\"\n",
              "       width=\"24px\">\n",
              "    <path d=\"M0 0h24v24H0V0z\" fill=\"none\"/>\n",
              "    <path d=\"M18.56 5.44l.94 2.06.94-2.06 2.06-.94-2.06-.94-.94-2.06-.94 2.06-2.06.94zm-11 1L8.5 8.5l.94-2.06 2.06-.94-2.06-.94L8.5 2.5l-.94 2.06-2.06.94zm10 10l.94 2.06.94-2.06 2.06-.94-2.06-.94-.94-2.06-.94 2.06-2.06.94z\"/><path d=\"M17.41 7.96l-1.37-1.37c-.4-.4-.92-.59-1.43-.59-.52 0-1.04.2-1.43.59L10.3 9.45l-7.72 7.72c-.78.78-.78 2.05 0 2.83L4 21.41c.39.39.9.59 1.41.59.51 0 1.02-.2 1.41-.59l7.78-7.78 2.81-2.81c.8-.78.8-2.07 0-2.86zM5.41 20L4 18.59l7.72-7.72 1.47 1.35L5.41 20z\"/>\n",
              "  </svg>\n",
              "      </button>\n",
              "      \n",
              "  <style>\n",
              "    .colab-df-container {\n",
              "      display:flex;\n",
              "      flex-wrap:wrap;\n",
              "      gap: 12px;\n",
              "    }\n",
              "\n",
              "    .colab-df-convert {\n",
              "      background-color: #E8F0FE;\n",
              "      border: none;\n",
              "      border-radius: 50%;\n",
              "      cursor: pointer;\n",
              "      display: none;\n",
              "      fill: #1967D2;\n",
              "      height: 32px;\n",
              "      padding: 0 0 0 0;\n",
              "      width: 32px;\n",
              "    }\n",
              "\n",
              "    .colab-df-convert:hover {\n",
              "      background-color: #E2EBFA;\n",
              "      box-shadow: 0px 1px 2px rgba(60, 64, 67, 0.3), 0px 1px 3px 1px rgba(60, 64, 67, 0.15);\n",
              "      fill: #174EA6;\n",
              "    }\n",
              "\n",
              "    [theme=dark] .colab-df-convert {\n",
              "      background-color: #3B4455;\n",
              "      fill: #D2E3FC;\n",
              "    }\n",
              "\n",
              "    [theme=dark] .colab-df-convert:hover {\n",
              "      background-color: #434B5C;\n",
              "      box-shadow: 0px 1px 3px 1px rgba(0, 0, 0, 0.15);\n",
              "      filter: drop-shadow(0px 1px 2px rgba(0, 0, 0, 0.3));\n",
              "      fill: #FFFFFF;\n",
              "    }\n",
              "  </style>\n",
              "\n",
              "      <script>\n",
              "        const buttonEl =\n",
              "          document.querySelector('#df-5e078147-3064-46d6-824f-284432a94f62 button.colab-df-convert');\n",
              "        buttonEl.style.display =\n",
              "          google.colab.kernel.accessAllowed ? 'block' : 'none';\n",
              "\n",
              "        async function convertToInteractive(key) {\n",
              "          const element = document.querySelector('#df-5e078147-3064-46d6-824f-284432a94f62');\n",
              "          const dataTable =\n",
              "            await google.colab.kernel.invokeFunction('convertToInteractive',\n",
              "                                                     [key], {});\n",
              "          if (!dataTable) return;\n",
              "\n",
              "          const docLinkHtml = 'Like what you see? Visit the ' +\n",
              "            '<a target=\"_blank\" href=https://colab.research.google.com/notebooks/data_table.ipynb>data table notebook</a>'\n",
              "            + ' to learn more about interactive tables.';\n",
              "          element.innerHTML = '';\n",
              "          dataTable['output_type'] = 'display_data';\n",
              "          await google.colab.output.renderOutput(dataTable, element);\n",
              "          const docLink = document.createElement('div');\n",
              "          docLink.innerHTML = docLinkHtml;\n",
              "          element.appendChild(docLink);\n",
              "        }\n",
              "      </script>\n",
              "    </div>\n",
              "  </div>\n",
              "  "
            ]
          },
          "metadata": {},
          "execution_count": 15
        }
      ]
    },
    {
      "cell_type": "code",
      "source": [
        "df['TotalSpent'].value_counts()"
      ],
      "metadata": {
        "execution": {
          "iopub.status.busy": "2023-04-18T08:01:53.837171Z",
          "iopub.execute_input": "2023-04-18T08:01:53.838157Z",
          "iopub.status.idle": "2023-04-18T08:01:53.858421Z",
          "shell.execute_reply.started": "2023-04-18T08:01:53.838083Z",
          "shell.execute_reply": "2023-04-18T08:01:53.856338Z"
        },
        "trusted": true,
        "colab": {
          "base_uri": "https://localhost:8080/"
        },
        "id": "RD_y8X41Z5TB",
        "outputId": "f5e6bdb8-7d3c-4eca-9810-beac543a2e3c"
      },
      "execution_count": null,
      "outputs": [
        {
          "output_type": "execute_result",
          "data": {
            "text/plain": [
              "20.20      9\n",
              "19.75      8\n",
              "20.05      6\n",
              "19.65      6\n",
              "19.90      5\n",
              "          ..\n",
              "41.85      1\n",
              "4326.25    1\n",
              "950.20     1\n",
              "4264.00    1\n",
              "1375.60    1\n",
              "Name: TotalSpent, Length: 4977, dtype: int64"
            ]
          },
          "metadata": {},
          "execution_count": 16
        }
      ]
    },
    {
      "cell_type": "markdown",
      "source": [
        "В `TotalSpent` появилось 9 пропусков, заполним 0"
      ],
      "metadata": {
        "id": "YvyjwOnDZ5TB"
      }
    },
    {
      "cell_type": "code",
      "source": [
        "df['TotalSpent'] = df['TotalSpent'].fillna(0)"
      ],
      "metadata": {
        "execution": {
          "iopub.status.busy": "2023-04-18T08:01:53.860527Z",
          "iopub.execute_input": "2023-04-18T08:01:53.860978Z",
          "iopub.status.idle": "2023-04-18T08:01:53.870034Z",
          "shell.execute_reply.started": "2023-04-18T08:01:53.860936Z",
          "shell.execute_reply": "2023-04-18T08:01:53.867984Z"
        },
        "trusted": true,
        "id": "S3TiwFSVZ5TB"
      },
      "execution_count": null,
      "outputs": []
    },
    {
      "cell_type": "code",
      "source": [
        "test['TotalSpent'] = pd.to_numeric(test['TotalSpent'], errors='coerce')"
      ],
      "metadata": {
        "execution": {
          "iopub.status.busy": "2023-04-18T08:01:53.872610Z",
          "iopub.execute_input": "2023-04-18T08:01:53.873116Z",
          "iopub.status.idle": "2023-04-18T08:01:53.884121Z",
          "shell.execute_reply.started": "2023-04-18T08:01:53.873068Z",
          "shell.execute_reply": "2023-04-18T08:01:53.882902Z"
        },
        "trusted": true,
        "id": "Tq_uU9GeZ5TC"
      },
      "execution_count": null,
      "outputs": []
    },
    {
      "cell_type": "code",
      "source": [
        "(test.isna().agg(['sum', 'mean'])\n",
        "    .style.set_caption('Количество пропусков')\n",
        "    .set_table_styles([{'selector': 'caption',\n",
        "                     'props': [('color', 'black'), ('font-size', '15px')]\n",
        "                     }]))"
      ],
      "metadata": {
        "execution": {
          "iopub.status.busy": "2023-04-18T08:01:53.885940Z",
          "iopub.execute_input": "2023-04-18T08:01:53.886408Z",
          "iopub.status.idle": "2023-04-18T08:01:53.926683Z",
          "shell.execute_reply.started": "2023-04-18T08:01:53.886359Z",
          "shell.execute_reply": "2023-04-18T08:01:53.925152Z"
        },
        "trusted": true,
        "colab": {
          "base_uri": "https://localhost:8080/",
          "height": 151
        },
        "id": "cjip6CeTZ5TC",
        "outputId": "e549c4d5-f9f1-4fbf-8f9d-68977663feaf"
      },
      "execution_count": null,
      "outputs": [
        {
          "output_type": "execute_result",
          "data": {
            "text/plain": [
              "<pandas.io.formats.style.Styler at 0x7f9ce4e6f400>"
            ],
            "text/html": [
              "<style type=\"text/css\">\n",
              "#T_b309c caption {\n",
              "  color: black;\n",
              "  font-size: 15px;\n",
              "}\n",
              "</style>\n",
              "<table id=\"T_b309c\" class=\"dataframe\">\n",
              "  <caption>Количество пропусков</caption>\n",
              "  <thead>\n",
              "    <tr>\n",
              "      <th class=\"blank level0\" >&nbsp;</th>\n",
              "      <th id=\"T_b309c_level0_col0\" class=\"col_heading level0 col0\" >ClientPeriod</th>\n",
              "      <th id=\"T_b309c_level0_col1\" class=\"col_heading level0 col1\" >MonthlySpending</th>\n",
              "      <th id=\"T_b309c_level0_col2\" class=\"col_heading level0 col2\" >TotalSpent</th>\n",
              "      <th id=\"T_b309c_level0_col3\" class=\"col_heading level0 col3\" >Sex</th>\n",
              "      <th id=\"T_b309c_level0_col4\" class=\"col_heading level0 col4\" >IsSeniorCitizen</th>\n",
              "      <th id=\"T_b309c_level0_col5\" class=\"col_heading level0 col5\" >HasPartner</th>\n",
              "      <th id=\"T_b309c_level0_col6\" class=\"col_heading level0 col6\" >HasChild</th>\n",
              "      <th id=\"T_b309c_level0_col7\" class=\"col_heading level0 col7\" >HasPhoneService</th>\n",
              "      <th id=\"T_b309c_level0_col8\" class=\"col_heading level0 col8\" >HasMultiplePhoneNumbers</th>\n",
              "      <th id=\"T_b309c_level0_col9\" class=\"col_heading level0 col9\" >HasInternetService</th>\n",
              "      <th id=\"T_b309c_level0_col10\" class=\"col_heading level0 col10\" >HasOnlineSecurityService</th>\n",
              "      <th id=\"T_b309c_level0_col11\" class=\"col_heading level0 col11\" >HasOnlineBackup</th>\n",
              "      <th id=\"T_b309c_level0_col12\" class=\"col_heading level0 col12\" >HasDeviceProtection</th>\n",
              "      <th id=\"T_b309c_level0_col13\" class=\"col_heading level0 col13\" >HasTechSupportAccess</th>\n",
              "      <th id=\"T_b309c_level0_col14\" class=\"col_heading level0 col14\" >HasOnlineTV</th>\n",
              "      <th id=\"T_b309c_level0_col15\" class=\"col_heading level0 col15\" >HasMovieSubscription</th>\n",
              "      <th id=\"T_b309c_level0_col16\" class=\"col_heading level0 col16\" >HasContractPhone</th>\n",
              "      <th id=\"T_b309c_level0_col17\" class=\"col_heading level0 col17\" >IsBillingPaperless</th>\n",
              "      <th id=\"T_b309c_level0_col18\" class=\"col_heading level0 col18\" >PaymentMethod</th>\n",
              "    </tr>\n",
              "  </thead>\n",
              "  <tbody>\n",
              "    <tr>\n",
              "      <th id=\"T_b309c_level0_row0\" class=\"row_heading level0 row0\" >sum</th>\n",
              "      <td id=\"T_b309c_row0_col0\" class=\"data row0 col0\" >0.000000</td>\n",
              "      <td id=\"T_b309c_row0_col1\" class=\"data row0 col1\" >0.000000</td>\n",
              "      <td id=\"T_b309c_row0_col2\" class=\"data row0 col2\" >2.000000</td>\n",
              "      <td id=\"T_b309c_row0_col3\" class=\"data row0 col3\" >0.000000</td>\n",
              "      <td id=\"T_b309c_row0_col4\" class=\"data row0 col4\" >0.000000</td>\n",
              "      <td id=\"T_b309c_row0_col5\" class=\"data row0 col5\" >0.000000</td>\n",
              "      <td id=\"T_b309c_row0_col6\" class=\"data row0 col6\" >0.000000</td>\n",
              "      <td id=\"T_b309c_row0_col7\" class=\"data row0 col7\" >0.000000</td>\n",
              "      <td id=\"T_b309c_row0_col8\" class=\"data row0 col8\" >0.000000</td>\n",
              "      <td id=\"T_b309c_row0_col9\" class=\"data row0 col9\" >0.000000</td>\n",
              "      <td id=\"T_b309c_row0_col10\" class=\"data row0 col10\" >0.000000</td>\n",
              "      <td id=\"T_b309c_row0_col11\" class=\"data row0 col11\" >0.000000</td>\n",
              "      <td id=\"T_b309c_row0_col12\" class=\"data row0 col12\" >0.000000</td>\n",
              "      <td id=\"T_b309c_row0_col13\" class=\"data row0 col13\" >0.000000</td>\n",
              "      <td id=\"T_b309c_row0_col14\" class=\"data row0 col14\" >0.000000</td>\n",
              "      <td id=\"T_b309c_row0_col15\" class=\"data row0 col15\" >0.000000</td>\n",
              "      <td id=\"T_b309c_row0_col16\" class=\"data row0 col16\" >0.000000</td>\n",
              "      <td id=\"T_b309c_row0_col17\" class=\"data row0 col17\" >0.000000</td>\n",
              "      <td id=\"T_b309c_row0_col18\" class=\"data row0 col18\" >0.000000</td>\n",
              "    </tr>\n",
              "    <tr>\n",
              "      <th id=\"T_b309c_level0_row1\" class=\"row_heading level0 row1\" >mean</th>\n",
              "      <td id=\"T_b309c_row1_col0\" class=\"data row1 col0\" >0.000000</td>\n",
              "      <td id=\"T_b309c_row1_col1\" class=\"data row1 col1\" >0.000000</td>\n",
              "      <td id=\"T_b309c_row1_col2\" class=\"data row1 col2\" >0.001136</td>\n",
              "      <td id=\"T_b309c_row1_col3\" class=\"data row1 col3\" >0.000000</td>\n",
              "      <td id=\"T_b309c_row1_col4\" class=\"data row1 col4\" >0.000000</td>\n",
              "      <td id=\"T_b309c_row1_col5\" class=\"data row1 col5\" >0.000000</td>\n",
              "      <td id=\"T_b309c_row1_col6\" class=\"data row1 col6\" >0.000000</td>\n",
              "      <td id=\"T_b309c_row1_col7\" class=\"data row1 col7\" >0.000000</td>\n",
              "      <td id=\"T_b309c_row1_col8\" class=\"data row1 col8\" >0.000000</td>\n",
              "      <td id=\"T_b309c_row1_col9\" class=\"data row1 col9\" >0.000000</td>\n",
              "      <td id=\"T_b309c_row1_col10\" class=\"data row1 col10\" >0.000000</td>\n",
              "      <td id=\"T_b309c_row1_col11\" class=\"data row1 col11\" >0.000000</td>\n",
              "      <td id=\"T_b309c_row1_col12\" class=\"data row1 col12\" >0.000000</td>\n",
              "      <td id=\"T_b309c_row1_col13\" class=\"data row1 col13\" >0.000000</td>\n",
              "      <td id=\"T_b309c_row1_col14\" class=\"data row1 col14\" >0.000000</td>\n",
              "      <td id=\"T_b309c_row1_col15\" class=\"data row1 col15\" >0.000000</td>\n",
              "      <td id=\"T_b309c_row1_col16\" class=\"data row1 col16\" >0.000000</td>\n",
              "      <td id=\"T_b309c_row1_col17\" class=\"data row1 col17\" >0.000000</td>\n",
              "      <td id=\"T_b309c_row1_col18\" class=\"data row1 col18\" >0.000000</td>\n",
              "    </tr>\n",
              "  </tbody>\n",
              "</table>\n"
            ]
          },
          "metadata": {},
          "execution_count": 19
        }
      ]
    },
    {
      "cell_type": "code",
      "source": [
        "test['TotalSpent'].agg({'mean', 'median'})"
      ],
      "metadata": {
        "execution": {
          "iopub.status.busy": "2023-04-18T08:01:53.930540Z",
          "iopub.execute_input": "2023-04-18T08:01:53.931725Z",
          "iopub.status.idle": "2023-04-18T08:01:53.946692Z",
          "shell.execute_reply.started": "2023-04-18T08:01:53.931594Z",
          "shell.execute_reply": "2023-04-18T08:01:53.945041Z"
        },
        "trusted": true,
        "colab": {
          "base_uri": "https://localhost:8080/"
        },
        "id": "yRAJT2BSZ5TC",
        "outputId": "fcdc3a2e-9ac2-47ef-df7d-c8b0dbf94746"
      },
      "execution_count": null,
      "outputs": [
        {
          "output_type": "execute_result",
          "data": {
            "text/plain": [
              "mean      2259.048778\n",
              "median    1356.700000\n",
              "Name: TotalSpent, dtype: float64"
            ]
          },
          "metadata": {},
          "execution_count": 20
        }
      ]
    },
    {
      "cell_type": "code",
      "source": [
        "test[test['TotalSpent'].isna()]"
      ],
      "metadata": {
        "execution": {
          "iopub.status.busy": "2023-04-18T08:01:53.948103Z",
          "iopub.execute_input": "2023-04-18T08:01:53.949740Z",
          "iopub.status.idle": "2023-04-18T08:01:53.974354Z",
          "shell.execute_reply.started": "2023-04-18T08:01:53.949687Z",
          "shell.execute_reply": "2023-04-18T08:01:53.972808Z"
        },
        "trusted": true,
        "colab": {
          "base_uri": "https://localhost:8080/",
          "height": 211
        },
        "id": "2O10mrhuZ5TC",
        "outputId": "c6d36a99-efe8-44a7-bb74-355982014552"
      },
      "execution_count": null,
      "outputs": [
        {
          "output_type": "execute_result",
          "data": {
            "text/plain": [
              "     ClientPeriod  MonthlySpending  TotalSpent   Sex  IsSeniorCitizen  \\\n",
              "177             0            19.85         NaN  Male                0   \n",
              "767             0            20.25         NaN  Male                0   \n",
              "\n",
              "    HasPartner HasChild HasPhoneService HasMultiplePhoneNumbers  \\\n",
              "177        Yes      Yes             Yes                      No   \n",
              "767         No      Yes             Yes                      No   \n",
              "\n",
              "    HasInternetService HasOnlineSecurityService      HasOnlineBackup  \\\n",
              "177                 No      No internet service  No internet service   \n",
              "767                 No      No internet service  No internet service   \n",
              "\n",
              "     HasDeviceProtection HasTechSupportAccess          HasOnlineTV  \\\n",
              "177  No internet service  No internet service  No internet service   \n",
              "767  No internet service  No internet service  No internet service   \n",
              "\n",
              "    HasMovieSubscription HasContractPhone IsBillingPaperless PaymentMethod  \n",
              "177  No internet service         Two year                 No  Mailed check  \n",
              "767  No internet service         Two year                 No  Mailed check  "
            ],
            "text/html": [
              "\n",
              "  <div id=\"df-d2ec7daf-f2c9-439b-9e8e-a0e6492281a3\">\n",
              "    <div class=\"colab-df-container\">\n",
              "      <div>\n",
              "<style scoped>\n",
              "    .dataframe tbody tr th:only-of-type {\n",
              "        vertical-align: middle;\n",
              "    }\n",
              "\n",
              "    .dataframe tbody tr th {\n",
              "        vertical-align: top;\n",
              "    }\n",
              "\n",
              "    .dataframe thead th {\n",
              "        text-align: right;\n",
              "    }\n",
              "</style>\n",
              "<table border=\"1\" class=\"dataframe\">\n",
              "  <thead>\n",
              "    <tr style=\"text-align: right;\">\n",
              "      <th></th>\n",
              "      <th>ClientPeriod</th>\n",
              "      <th>MonthlySpending</th>\n",
              "      <th>TotalSpent</th>\n",
              "      <th>Sex</th>\n",
              "      <th>IsSeniorCitizen</th>\n",
              "      <th>HasPartner</th>\n",
              "      <th>HasChild</th>\n",
              "      <th>HasPhoneService</th>\n",
              "      <th>HasMultiplePhoneNumbers</th>\n",
              "      <th>HasInternetService</th>\n",
              "      <th>HasOnlineSecurityService</th>\n",
              "      <th>HasOnlineBackup</th>\n",
              "      <th>HasDeviceProtection</th>\n",
              "      <th>HasTechSupportAccess</th>\n",
              "      <th>HasOnlineTV</th>\n",
              "      <th>HasMovieSubscription</th>\n",
              "      <th>HasContractPhone</th>\n",
              "      <th>IsBillingPaperless</th>\n",
              "      <th>PaymentMethod</th>\n",
              "    </tr>\n",
              "  </thead>\n",
              "  <tbody>\n",
              "    <tr>\n",
              "      <th>177</th>\n",
              "      <td>0</td>\n",
              "      <td>19.85</td>\n",
              "      <td>NaN</td>\n",
              "      <td>Male</td>\n",
              "      <td>0</td>\n",
              "      <td>Yes</td>\n",
              "      <td>Yes</td>\n",
              "      <td>Yes</td>\n",
              "      <td>No</td>\n",
              "      <td>No</td>\n",
              "      <td>No internet service</td>\n",
              "      <td>No internet service</td>\n",
              "      <td>No internet service</td>\n",
              "      <td>No internet service</td>\n",
              "      <td>No internet service</td>\n",
              "      <td>No internet service</td>\n",
              "      <td>Two year</td>\n",
              "      <td>No</td>\n",
              "      <td>Mailed check</td>\n",
              "    </tr>\n",
              "    <tr>\n",
              "      <th>767</th>\n",
              "      <td>0</td>\n",
              "      <td>20.25</td>\n",
              "      <td>NaN</td>\n",
              "      <td>Male</td>\n",
              "      <td>0</td>\n",
              "      <td>No</td>\n",
              "      <td>Yes</td>\n",
              "      <td>Yes</td>\n",
              "      <td>No</td>\n",
              "      <td>No</td>\n",
              "      <td>No internet service</td>\n",
              "      <td>No internet service</td>\n",
              "      <td>No internet service</td>\n",
              "      <td>No internet service</td>\n",
              "      <td>No internet service</td>\n",
              "      <td>No internet service</td>\n",
              "      <td>Two year</td>\n",
              "      <td>No</td>\n",
              "      <td>Mailed check</td>\n",
              "    </tr>\n",
              "  </tbody>\n",
              "</table>\n",
              "</div>\n",
              "      <button class=\"colab-df-convert\" onclick=\"convertToInteractive('df-d2ec7daf-f2c9-439b-9e8e-a0e6492281a3')\"\n",
              "              title=\"Convert this dataframe to an interactive table.\"\n",
              "              style=\"display:none;\">\n",
              "        \n",
              "  <svg xmlns=\"http://www.w3.org/2000/svg\" height=\"24px\"viewBox=\"0 0 24 24\"\n",
              "       width=\"24px\">\n",
              "    <path d=\"M0 0h24v24H0V0z\" fill=\"none\"/>\n",
              "    <path d=\"M18.56 5.44l.94 2.06.94-2.06 2.06-.94-2.06-.94-.94-2.06-.94 2.06-2.06.94zm-11 1L8.5 8.5l.94-2.06 2.06-.94-2.06-.94L8.5 2.5l-.94 2.06-2.06.94zm10 10l.94 2.06.94-2.06 2.06-.94-2.06-.94-.94-2.06-.94 2.06-2.06.94z\"/><path d=\"M17.41 7.96l-1.37-1.37c-.4-.4-.92-.59-1.43-.59-.52 0-1.04.2-1.43.59L10.3 9.45l-7.72 7.72c-.78.78-.78 2.05 0 2.83L4 21.41c.39.39.9.59 1.41.59.51 0 1.02-.2 1.41-.59l7.78-7.78 2.81-2.81c.8-.78.8-2.07 0-2.86zM5.41 20L4 18.59l7.72-7.72 1.47 1.35L5.41 20z\"/>\n",
              "  </svg>\n",
              "      </button>\n",
              "      \n",
              "  <style>\n",
              "    .colab-df-container {\n",
              "      display:flex;\n",
              "      flex-wrap:wrap;\n",
              "      gap: 12px;\n",
              "    }\n",
              "\n",
              "    .colab-df-convert {\n",
              "      background-color: #E8F0FE;\n",
              "      border: none;\n",
              "      border-radius: 50%;\n",
              "      cursor: pointer;\n",
              "      display: none;\n",
              "      fill: #1967D2;\n",
              "      height: 32px;\n",
              "      padding: 0 0 0 0;\n",
              "      width: 32px;\n",
              "    }\n",
              "\n",
              "    .colab-df-convert:hover {\n",
              "      background-color: #E2EBFA;\n",
              "      box-shadow: 0px 1px 2px rgba(60, 64, 67, 0.3), 0px 1px 3px 1px rgba(60, 64, 67, 0.15);\n",
              "      fill: #174EA6;\n",
              "    }\n",
              "\n",
              "    [theme=dark] .colab-df-convert {\n",
              "      background-color: #3B4455;\n",
              "      fill: #D2E3FC;\n",
              "    }\n",
              "\n",
              "    [theme=dark] .colab-df-convert:hover {\n",
              "      background-color: #434B5C;\n",
              "      box-shadow: 0px 1px 3px 1px rgba(0, 0, 0, 0.15);\n",
              "      filter: drop-shadow(0px 1px 2px rgba(0, 0, 0, 0.3));\n",
              "      fill: #FFFFFF;\n",
              "    }\n",
              "  </style>\n",
              "\n",
              "      <script>\n",
              "        const buttonEl =\n",
              "          document.querySelector('#df-d2ec7daf-f2c9-439b-9e8e-a0e6492281a3 button.colab-df-convert');\n",
              "        buttonEl.style.display =\n",
              "          google.colab.kernel.accessAllowed ? 'block' : 'none';\n",
              "\n",
              "        async function convertToInteractive(key) {\n",
              "          const element = document.querySelector('#df-d2ec7daf-f2c9-439b-9e8e-a0e6492281a3');\n",
              "          const dataTable =\n",
              "            await google.colab.kernel.invokeFunction('convertToInteractive',\n",
              "                                                     [key], {});\n",
              "          if (!dataTable) return;\n",
              "\n",
              "          const docLinkHtml = 'Like what you see? Visit the ' +\n",
              "            '<a target=\"_blank\" href=https://colab.research.google.com/notebooks/data_table.ipynb>data table notebook</a>'\n",
              "            + ' to learn more about interactive tables.';\n",
              "          element.innerHTML = '';\n",
              "          dataTable['output_type'] = 'display_data';\n",
              "          await google.colab.output.renderOutput(dataTable, element);\n",
              "          const docLink = document.createElement('div');\n",
              "          docLink.innerHTML = docLinkHtml;\n",
              "          element.appendChild(docLink);\n",
              "        }\n",
              "      </script>\n",
              "    </div>\n",
              "  </div>\n",
              "  "
            ]
          },
          "metadata": {},
          "execution_count": 21
        }
      ]
    },
    {
      "cell_type": "markdown",
      "source": [
        "В `TotalSpent` появилось 2 пропусков,  заполним 0"
      ],
      "metadata": {
        "id": "iCyVVpggZ5TC"
      }
    },
    {
      "cell_type": "code",
      "source": [
        "test['TotalSpent'] = test['TotalSpent'].fillna(0)"
      ],
      "metadata": {
        "execution": {
          "iopub.status.busy": "2023-04-18T08:01:53.976136Z",
          "iopub.execute_input": "2023-04-18T08:01:53.977011Z",
          "iopub.status.idle": "2023-04-18T08:01:53.987998Z",
          "shell.execute_reply.started": "2023-04-18T08:01:53.976934Z",
          "shell.execute_reply": "2023-04-18T08:01:53.986621Z"
        },
        "trusted": true,
        "id": "HzuQd1jwZ5TC"
      },
      "execution_count": null,
      "outputs": []
    },
    {
      "cell_type": "code",
      "source": [
        "print('Количество уникальных значений в каждой колонке:')\n",
        "for index in df.columns:\n",
        "    row = df[index].nunique()\n",
        "    print(f'Уникальный значений {index}: {row}')"
      ],
      "metadata": {
        "execution": {
          "iopub.status.busy": "2023-04-18T08:01:53.989395Z",
          "iopub.execute_input": "2023-04-18T08:01:53.990734Z",
          "iopub.status.idle": "2023-04-18T08:01:54.020115Z",
          "shell.execute_reply.started": "2023-04-18T08:01:53.990670Z",
          "shell.execute_reply": "2023-04-18T08:01:54.018605Z"
        },
        "trusted": true,
        "id": "ILs0g60eZ5TC"
      },
      "execution_count": null,
      "outputs": []
    },
    {
      "cell_type": "code",
      "source": [
        "df['Sex'].value_counts(normalize=True)"
      ],
      "metadata": {
        "execution": {
          "iopub.status.busy": "2023-04-18T08:01:54.022053Z",
          "iopub.execute_input": "2023-04-18T08:01:54.022521Z",
          "iopub.status.idle": "2023-04-18T08:01:54.036022Z",
          "shell.execute_reply.started": "2023-04-18T08:01:54.022477Z",
          "shell.execute_reply": "2023-04-18T08:01:54.034526Z"
        },
        "trusted": true,
        "id": "Jj9s-gW0Z5TC"
      },
      "execution_count": null,
      "outputs": []
    },
    {
      "cell_type": "code",
      "source": [
        "test['Sex'].value_counts(normalize=True)"
      ],
      "metadata": {
        "execution": {
          "iopub.status.busy": "2023-04-18T08:01:54.039132Z",
          "iopub.execute_input": "2023-04-18T08:01:54.040326Z",
          "iopub.status.idle": "2023-04-18T08:01:54.054058Z",
          "shell.execute_reply.started": "2023-04-18T08:01:54.040256Z",
          "shell.execute_reply": "2023-04-18T08:01:54.052692Z"
        },
        "trusted": true,
        "id": "wsSEqvffZ5TD"
      },
      "execution_count": null,
      "outputs": []
    },
    {
      "cell_type": "code",
      "source": [
        "df['Churn'].value_counts()"
      ],
      "metadata": {
        "execution": {
          "iopub.status.busy": "2023-04-18T08:01:54.056720Z",
          "iopub.execute_input": "2023-04-18T08:01:54.057619Z",
          "iopub.status.idle": "2023-04-18T08:01:54.072505Z",
          "shell.execute_reply.started": "2023-04-18T08:01:54.057558Z",
          "shell.execute_reply": "2023-04-18T08:01:54.070890Z"
        },
        "trusted": true,
        "id": "b9WIcLFHZ5TD"
      },
      "execution_count": null,
      "outputs": []
    },
    {
      "cell_type": "code",
      "source": [
        "# Числовые признаки\n",
        "num_cols = [\n",
        "    'ClientPeriod',\n",
        "    'MonthlySpending',\n",
        "    'TotalSpent'\n",
        "]\n",
        "\n",
        "# Категориальные признаки\n",
        "cat_cols = [\n",
        "    'Sex',\n",
        "    'IsSeniorCitizen',\n",
        "    'HasPartner',\n",
        "    'HasChild',\n",
        "    'HasPhoneService',\n",
        "    'HasMultiplePhoneNumbers',\n",
        "    'HasInternetService',\n",
        "    'HasOnlineSecurityService',\n",
        "    'HasOnlineBackup',\n",
        "    'HasDeviceProtection',\n",
        "    'HasTechSupportAccess',\n",
        "    'HasOnlineTV',\n",
        "    'HasMovieSubscription',\n",
        "    'HasContractPhone',\n",
        "    'IsBillingPaperless',\n",
        "    'PaymentMethod'\n",
        "]\n",
        "\n",
        "feature_cols = num_cols + cat_cols\n",
        "target_col = 'Churn'"
      ],
      "metadata": {
        "execution": {
          "iopub.status.busy": "2023-04-18T08:01:54.074634Z",
          "iopub.execute_input": "2023-04-18T08:01:54.075446Z",
          "iopub.status.idle": "2023-04-18T08:01:54.084463Z",
          "shell.execute_reply.started": "2023-04-18T08:01:54.075393Z",
          "shell.execute_reply": "2023-04-18T08:01:54.082898Z"
        },
        "trusted": true,
        "id": "ji9blnjjZ5TD"
      },
      "execution_count": null,
      "outputs": []
    },
    {
      "cell_type": "code",
      "source": [
        "df.describe(include=[object])"
      ],
      "metadata": {
        "execution": {
          "iopub.status.busy": "2023-04-18T08:01:54.086216Z",
          "iopub.execute_input": "2023-04-18T08:01:54.086660Z",
          "iopub.status.idle": "2023-04-18T08:01:54.161419Z",
          "shell.execute_reply.started": "2023-04-18T08:01:54.086618Z",
          "shell.execute_reply": "2023-04-18T08:01:54.159880Z"
        },
        "trusted": true,
        "id": "qbFqqalHZ5TD"
      },
      "execution_count": null,
      "outputs": []
    },
    {
      "cell_type": "markdown",
      "source": [
        "Проверим на дубликаты  "
      ],
      "metadata": {
        "id": "PYnRzdY1Z5TD"
      }
    },
    {
      "cell_type": "code",
      "source": [
        "df.duplicated().sum()"
      ],
      "metadata": {
        "execution": {
          "iopub.status.busy": "2023-04-18T08:01:54.171087Z",
          "iopub.execute_input": "2023-04-18T08:01:54.171543Z",
          "iopub.status.idle": "2023-04-18T08:01:54.193779Z",
          "shell.execute_reply.started": "2023-04-18T08:01:54.171499Z",
          "shell.execute_reply": "2023-04-18T08:01:54.192144Z"
        },
        "trusted": true,
        "id": "X08CHhV3Z5TD"
      },
      "execution_count": null,
      "outputs": []
    },
    {
      "cell_type": "code",
      "source": [
        "test.duplicated().sum()"
      ],
      "metadata": {
        "execution": {
          "iopub.status.busy": "2023-04-18T08:01:54.195336Z",
          "iopub.execute_input": "2023-04-18T08:01:54.195736Z",
          "iopub.status.idle": "2023-04-18T08:01:54.213993Z",
          "shell.execute_reply.started": "2023-04-18T08:01:54.195696Z",
          "shell.execute_reply": "2023-04-18T08:01:54.212732Z"
        },
        "trusted": true,
        "colab": {
          "base_uri": "https://localhost:8080/"
        },
        "id": "Jy5qDRPeZ5TD",
        "outputId": "e76a4409-d590-4e8f-9c43-e1782bc4f418"
      },
      "execution_count": null,
      "outputs": [
        {
          "output_type": "execute_result",
          "data": {
            "text/plain": [
              "3"
            ]
          },
          "metadata": {},
          "execution_count": 30
        }
      ]
    },
    {
      "cell_type": "markdown",
      "source": [
        "Дубликатов не много, оставим их"
      ],
      "metadata": {
        "id": "WS95KQygZ5TD"
      }
    },
    {
      "cell_type": "code",
      "source": [
        "phik_overview = df.phik_matrix();\n",
        "phik_overview['Churn'].sort_values(ascending=False)"
      ],
      "metadata": {
        "execution": {
          "iopub.status.busy": "2023-04-18T08:01:54.215933Z",
          "iopub.execute_input": "2023-04-18T08:01:54.216681Z",
          "iopub.status.idle": "2023-04-18T08:01:56.701412Z",
          "shell.execute_reply.started": "2023-04-18T08:01:54.216641Z",
          "shell.execute_reply": "2023-04-18T08:01:56.700188Z"
        },
        "trusted": true,
        "colab": {
          "base_uri": "https://localhost:8080/"
        },
        "id": "2p4fIDJnZ5TD",
        "outputId": "2ba39b4c-6b83-429c-8e61-a86e66405c43"
      },
      "execution_count": null,
      "outputs": [
        {
          "output_type": "stream",
          "name": "stdout",
          "text": [
            "interval columns not set, guessing: ['ClientPeriod', 'MonthlySpending', 'TotalSpent', 'IsSeniorCitizen', 'Churn']\n"
          ]
        },
        {
          "output_type": "execute_result",
          "data": {
            "text/plain": [
              "Churn                       1.000000\n",
              "ClientPeriod                0.469423\n",
              "PaymentMethod               0.442566\n",
              "MonthlySpending             0.360202\n",
              "IsBillingPaperless          0.298737\n",
              "TotalSpent                  0.277363\n",
              "HasChild                    0.252610\n",
              "HasContractPhone            0.250575\n",
              "IsSeniorCitizen             0.242130\n",
              "HasPartner                  0.229302\n",
              "HasOnlineSecurityService    0.217454\n",
              "HasTechSupportAccess        0.208887\n",
              "HasInternetService          0.192010\n",
              "HasOnlineBackup             0.178838\n",
              "HasDeviceProtection         0.171164\n",
              "HasMovieSubscription        0.140222\n",
              "HasOnlineTV                 0.139006\n",
              "HasMultiplePhoneNumbers     0.020756\n",
              "Sex                         0.000000\n",
              "HasPhoneService             0.000000\n",
              "Name: Churn, dtype: float64"
            ]
          },
          "metadata": {},
          "execution_count": 31
        }
      ]
    },
    {
      "cell_type": "markdown",
      "source": [
        "матрица корреляций"
      ],
      "metadata": {
        "id": "GS66rqYZZ5TE"
      }
    },
    {
      "cell_type": "code",
      "source": [
        "fig = plt.figure(figsize=(9,9))\n",
        "\n",
        "sns.heatmap(df.corr(), annot=True, cmap=sns.color_palette(\"ch:start=.2,rot=-.3\", as_cmap=True))\n",
        "plt.title('матрица корреляций', fontsize=15)\n",
        "plt.show()"
      ],
      "metadata": {
        "execution": {
          "iopub.status.busy": "2023-04-18T08:01:56.703042Z",
          "iopub.execute_input": "2023-04-18T08:01:56.704347Z",
          "iopub.status.idle": "2023-04-18T08:01:57.151067Z",
          "shell.execute_reply.started": "2023-04-18T08:01:56.704293Z",
          "shell.execute_reply": "2023-04-18T08:01:57.149896Z"
        },
        "trusted": true,
        "colab": {
          "base_uri": "https://localhost:8080/",
          "height": 778
        },
        "id": "-fxM9PRmZ5TE",
        "outputId": "d1445482-8e72-4515-fd85-27a0e68fedea"
      },
      "execution_count": null,
      "outputs": [
        {
          "output_type": "display_data",
          "data": {
            "text/plain": [
              "<Figure size 900x900 with 2 Axes>"
            ],
            "image/png": "[encoded data removed]"
          },
          "metadata": {}
        }
      ]
    },
    {
      "cell_type": "markdown",
      "source": [
        "## Анализ данных"
      ],
      "metadata": {
        "id": "aKvuGTx4Z5TE"
      }
    },
    {
      "cell_type": "code",
      "source": [
        "df.groupby('Churn').agg(count = ('Churn','count')).reset_index()"
      ],
      "metadata": {
        "execution": {
          "iopub.status.busy": "2023-04-18T08:01:57.152764Z",
          "iopub.execute_input": "2023-04-18T08:01:57.153881Z",
          "iopub.status.idle": "2023-04-18T08:01:57.178801Z",
          "shell.execute_reply.started": "2023-04-18T08:01:57.153827Z",
          "shell.execute_reply": "2023-04-18T08:01:57.177101Z"
        },
        "trusted": true,
        "id": "sUysTGF6Z5TE"
      },
      "execution_count": null,
      "outputs": []
    },
    {
      "cell_type": "code",
      "source": [
        "t = df.groupby('Churn').agg(count = ('Churn','count')).reset_index()\n",
        "# строим график\n",
        "plt.figure(figsize=(15,5))\n",
        "ax = sns.barplot(data = t, x = 'Churn', y = 'count',  palette='Paired')\n",
        "ax.set_xlabel('',fontsize=12)\n",
        "ax.set_ylabel('Количество', fontsize=12)\n",
        "ax.set_title('Распределение целевой переменной', fontsize=15)\n",
        "plt.xticks(rotation = 25)\n",
        "plt.show()"
      ],
      "metadata": {
        "execution": {
          "iopub.status.busy": "2023-04-18T08:01:57.180712Z",
          "iopub.execute_input": "2023-04-18T08:01:57.181579Z",
          "iopub.status.idle": "2023-04-18T08:01:57.451250Z",
          "shell.execute_reply.started": "2023-04-18T08:01:57.181529Z",
          "shell.execute_reply": "2023-04-18T08:01:57.449508Z"
        },
        "trusted": true,
        "colab": {
          "base_uri": "https://localhost:8080/",
          "height": 472
        },
        "id": "pSf5riFIZ5TE",
        "outputId": "0eb9141c-434e-4b4c-f0ee-d36bc736180c"
      },
      "execution_count": null,
      "outputs": [
        {
          "output_type": "display_data",
          "data": {
            "text/plain": [
              "<Figure size 1500x500 with 1 Axes>"
            ],
            "image/png": "[encoded data removed]"
          },
          "metadata": {}
        }
      ]
    },
    {
      "cell_type": "code",
      "source": [
        "df['Churn'].value_counts(normalize=True)"
      ],
      "metadata": {
        "execution": {
          "iopub.status.busy": "2023-04-18T08:01:57.453025Z",
          "iopub.execute_input": "2023-04-18T08:01:57.453433Z",
          "iopub.status.idle": "2023-04-18T08:01:57.465051Z",
          "shell.execute_reply.started": "2023-04-18T08:01:57.453392Z",
          "shell.execute_reply": "2023-04-18T08:01:57.463614Z"
        },
        "trusted": true,
        "colab": {
          "base_uri": "https://localhost:8080/"
        },
        "id": "KCG9xHY3Z5TE",
        "outputId": "2d9509ab-7364-43ab-b464-336e420ea4f0"
      },
      "execution_count": null,
      "outputs": [
        {
          "output_type": "execute_result",
          "data": {
            "text/plain": [
              "0    0.737978\n",
              "1    0.262022\n",
              "Name: Churn, dtype: float64"
            ]
          },
          "metadata": {},
          "execution_count": 35
        }
      ]
    },
    {
      "cell_type": "markdown",
      "source": [
        "классы несбалансированные"
      ],
      "metadata": {
        "id": "S4cyoSzBZ5TE"
      }
    },
    {
      "cell_type": "markdown",
      "source": [
        "Посмотрим на распределение числовых признаков"
      ],
      "metadata": {
        "id": "L8GF0vaFZ5TE"
      }
    },
    {
      "cell_type": "code",
      "source": [
        "sns.set_style(\"darkgrid\")\n",
        "fig, ax = plt.subplots(nrows=1, ncols=len(num_cols), figsize=(15,5))\n",
        "for i, col in enumerate(num_cols):\n",
        "    ax[i].hist(df[col])\n",
        "    ax[i].set_title(col)"
      ],
      "metadata": {
        "execution": {
          "iopub.status.busy": "2023-04-18T08:01:57.467033Z",
          "iopub.execute_input": "2023-04-18T08:01:57.467885Z",
          "iopub.status.idle": "2023-04-18T08:01:58.250329Z",
          "shell.execute_reply.started": "2023-04-18T08:01:57.467829Z",
          "shell.execute_reply": "2023-04-18T08:01:58.248990Z"
        },
        "trusted": true,
        "colab": {
          "base_uri": "https://localhost:8080/",
          "height": 468
        },
        "id": "GHo6VRmUZ5TE",
        "outputId": "047cb4dc-f0e5-47a3-ce5f-6251b1f891b7"
      },
      "execution_count": null,
      "outputs": [
        {
          "output_type": "display_data",
          "data": {
            "text/plain": [
              "<Figure size 1500x500 with 3 Axes>"
            ],
            "image/png": "[encoded data removed]"
          },
          "metadata": {}
        }
      ]
    },
    {
      "cell_type": "markdown",
      "source": [
        "Категориальные признаки"
      ],
      "metadata": {
        "id": "r6TgvntMZ5TF"
      }
    },
    {
      "cell_type": "code",
      "source": [
        "fig, axes = plt.subplots(4, 4, figsize=(15, 15), sharey=True)\n",
        "for i in range(len(cat_cols)):\n",
        "    sns.countplot(x=cat_cols[i], data=df, ax=axes[i//4, i%4],hue = target_col)\n",
        "\n",
        "plt.show()"
      ],
      "metadata": {
        "execution": {
          "iopub.status.busy": "2023-04-18T08:01:58.252013Z",
          "iopub.execute_input": "2023-04-18T08:01:58.252503Z",
          "iopub.status.idle": "2023-04-18T08:02:01.167765Z",
          "shell.execute_reply.started": "2023-04-18T08:01:58.252452Z",
          "shell.execute_reply": "2023-04-18T08:02:01.166899Z"
        },
        "trusted": true,
        "colab": {
          "base_uri": "https://localhost:8080/",
          "height": 1000
        },
        "id": "AbxqizMRZ5TF",
        "outputId": "a5a4c343-8c78-4e58-c18d-d0c9012fc006"
      },
      "execution_count": null,
      "outputs": [
        {
          "output_type": "display_data",
          "data": {
            "text/plain": [
              "<Figure size 1500x1500 with 16 Axes>"
            ],
            "image/png": "[encoded data removed]"
          },
          "metadata": {}
        }
      ]
    },
    {
      "cell_type": "markdown",
      "source": [
        "## Подготовим данные для линейных моделей"
      ],
      "metadata": {
        "id": "bWOzuMnZZ5TF"
      }
    },
    {
      "cell_type": "markdown",
      "source": [
        "Скопируем данные"
      ],
      "metadata": {
        "id": "RPGqT1MbZ5TF"
      }
    },
    {
      "cell_type": "code",
      "source": [
        "X_original = df[feature_cols].copy()\n",
        "X_original.shape"
      ],
      "metadata": {
        "execution": {
          "iopub.status.busy": "2023-04-18T08:02:01.169562Z",
          "iopub.execute_input": "2023-04-18T08:02:01.169996Z",
          "iopub.status.idle": "2023-04-18T08:02:01.181858Z",
          "shell.execute_reply.started": "2023-04-18T08:02:01.169955Z",
          "shell.execute_reply": "2023-04-18T08:02:01.180379Z"
        },
        "trusted": true,
        "id": "irEQeykdZ5TF"
      },
      "execution_count": null,
      "outputs": []
    },
    {
      "cell_type": "code",
      "source": [
        "dummy = pd.get_dummies(df[cat_cols])"
      ],
      "metadata": {
        "execution": {
          "iopub.status.busy": "2023-04-18T08:02:01.183985Z",
          "iopub.execute_input": "2023-04-18T08:02:01.184423Z",
          "iopub.status.idle": "2023-04-18T08:02:01.222828Z",
          "shell.execute_reply.started": "2023-04-18T08:02:01.184383Z",
          "shell.execute_reply": "2023-04-18T08:02:01.221293Z"
        },
        "trusted": true,
        "id": "iQdsOiwMZ5TF"
      },
      "execution_count": null,
      "outputs": []
    },
    {
      "cell_type": "markdown",
      "source": [
        "Проведём стандартизацию"
      ],
      "metadata": {
        "id": "9XSKFJF0Z5TF"
      }
    },
    {
      "cell_type": "code",
      "source": [
        "scaler = StandardScaler()\n",
        "X_train_st = scaler.fit_transform(df[num_cols])"
      ],
      "metadata": {
        "execution": {
          "iopub.status.busy": "2023-04-18T08:02:01.224528Z",
          "iopub.execute_input": "2023-04-18T08:02:01.224956Z",
          "iopub.status.idle": "2023-04-18T08:02:01.236126Z",
          "shell.execute_reply.started": "2023-04-18T08:02:01.224907Z",
          "shell.execute_reply": "2023-04-18T08:02:01.234832Z"
        },
        "trusted": true,
        "id": "L87CDMpXZ5TF"
      },
      "execution_count": null,
      "outputs": []
    },
    {
      "cell_type": "markdown",
      "source": [
        "сформируем датасет"
      ],
      "metadata": {
        "id": "hQ9qf09MZ5TF"
      }
    },
    {
      "cell_type": "code",
      "source": [
        "X = pd.DataFrame(X_train_st, columns=num_cols).join(dummy)\n",
        "X.sample(3)"
      ],
      "metadata": {
        "execution": {
          "iopub.status.busy": "2023-04-18T08:02:01.237905Z",
          "iopub.execute_input": "2023-04-18T08:02:01.238374Z",
          "iopub.status.idle": "2023-04-18T08:02:01.270836Z",
          "shell.execute_reply.started": "2023-04-18T08:02:01.238333Z",
          "shell.execute_reply": "2023-04-18T08:02:01.269356Z"
        },
        "trusted": true,
        "colab": {
          "base_uri": "https://localhost:8080/",
          "height": 271
        },
        "id": "Dj8zpp8gZ5TF",
        "outputId": "a6ce8588-14a9-45b8-cbdb-03bb4c56d9b0"
      },
      "execution_count": null,
      "outputs": [
        {
          "output_type": "execute_result",
          "data": {
            "text/plain": [
              "      ClientPeriod  MonthlySpending  TotalSpent  IsSeniorCitizen  Sex_Female  \\\n",
              "2465      1.165186         1.778881    2.238248                0           1   \n",
              "2311      0.024564         0.942057    0.354593                0           0   \n",
              "3848     -0.871640        -1.316540   -0.866716                0           1   \n",
              "\n",
              "      Sex_Male  HasPartner_No  HasPartner_Yes  HasChild_No  HasChild_Yes  ...  \\\n",
              "2465         0              1               0            1             0  ...   \n",
              "2311         1              0               1            1             0  ...   \n",
              "3848         0              1               0            0             1  ...   \n",
              "\n",
              "      HasMovieSubscription_Yes  HasContractPhone_Month-to-month  \\\n",
              "2465                         1                                0   \n",
              "2311                         1                                1   \n",
              "3848                         0                                1   \n",
              "\n",
              "      HasContractPhone_One year  HasContractPhone_Two year  \\\n",
              "2465                          1                          0   \n",
              "2311                          0                          0   \n",
              "3848                          0                          0   \n",
              "\n",
              "      IsBillingPaperless_No  IsBillingPaperless_Yes  \\\n",
              "2465                      0                       1   \n",
              "2311                      0                       1   \n",
              "3848                      1                       0   \n",
              "\n",
              "      PaymentMethod_Bank transfer (automatic)  \\\n",
              "2465                                        0   \n",
              "2311                                        0   \n",
              "3848                                        0   \n",
              "\n",
              "      PaymentMethod_Credit card (automatic)  PaymentMethod_Electronic check  \\\n",
              "2465                                      0                               1   \n",
              "2311                                      0                               1   \n",
              "3848                                      0                               1   \n",
              "\n",
              "      PaymentMethod_Mailed check  \n",
              "2465                           0  \n",
              "2311                           0  \n",
              "3848                           0  \n",
              "\n",
              "[3 rows x 45 columns]"
            ],
            "text/html": [
              "\n",
              "  <div id=\"df-40c7c54b-df1e-41d3-97d6-74a1e4c38bbf\">\n",
              "    <div class=\"colab-df-container\">\n",
              "      <div>\n",
              "<style scoped>\n",
              "    .dataframe tbody tr th:only-of-type {\n",
              "        vertical-align: middle;\n",
              "    }\n",
              "\n",
              "    .dataframe tbody tr th {\n",
              "        vertical-align: top;\n",
              "    }\n",
              "\n",
              "    .dataframe thead th {\n",
              "        text-align: right;\n",
              "    }\n",
              "</style>\n",
              "<table border=\"1\" class=\"dataframe\">\n",
              "  <thead>\n",
              "    <tr style=\"text-align: right;\">\n",
              "      <th></th>\n",
              "      <th>ClientPeriod</th>\n",
              "      <th>MonthlySpending</th>\n",
              "      <th>TotalSpent</th>\n",
              "      <th>IsSeniorCitizen</th>\n",
              "      <th>Sex_Female</th>\n",
              "      <th>Sex_Male</th>\n",
              "      <th>HasPartner_No</th>\n",
              "      <th>HasPartner_Yes</th>\n",
              "      <th>HasChild_No</th>\n",
              "      <th>HasChild_Yes</th>\n",
              "      <th>...</th>\n",
              "      <th>HasMovieSubscription_Yes</th>\n",
              "      <th>HasContractPhone_Month-to-month</th>\n",
              "      <th>HasContractPhone_One year</th>\n",
              "      <th>HasContractPhone_Two year</th>\n",
              "      <th>IsBillingPaperless_No</th>\n",
              "      <th>IsBillingPaperless_Yes</th>\n",
              "      <th>PaymentMethod_Bank transfer (automatic)</th>\n",
              "      <th>PaymentMethod_Credit card (automatic)</th>\n",
              "      <th>PaymentMethod_Electronic check</th>\n",
              "      <th>PaymentMethod_Mailed check</th>\n",
              "    </tr>\n",
              "  </thead>\n",
              "  <tbody>\n",
              "    <tr>\n",
              "      <th>2465</th>\n",
              "      <td>1.165186</td>\n",
              "      <td>1.778881</td>\n",
              "      <td>2.238248</td>\n",
              "      <td>0</td>\n",
              "      <td>1</td>\n",
              "      <td>0</td>\n",
              "      <td>1</td>\n",
              "      <td>0</td>\n",
              "      <td>1</td>\n",
              "      <td>0</td>\n",
              "      <td>...</td>\n",
              "      <td>1</td>\n",
              "      <td>0</td>\n",
              "      <td>1</td>\n",
              "      <td>0</td>\n",
              "      <td>0</td>\n",
              "      <td>1</td>\n",
              "      <td>0</td>\n",
              "      <td>0</td>\n",
              "      <td>1</td>\n",
              "      <td>0</td>\n",
              "    </tr>\n",
              "    <tr>\n",
              "      <th>2311</th>\n",
              "      <td>0.024564</td>\n",
              "      <td>0.942057</td>\n",
              "      <td>0.354593</td>\n",
              "      <td>0</td>\n",
              "      <td>0</td>\n",
              "      <td>1</td>\n",
              "      <td>0</td>\n",
              "      <td>1</td>\n",
              "      <td>1</td>\n",
              "      <td>0</td>\n",
              "      <td>...</td>\n",
              "      <td>1</td>\n",
              "      <td>1</td>\n",
              "      <td>0</td>\n",
              "      <td>0</td>\n",
              "      <td>0</td>\n",
              "      <td>1</td>\n",
              "      <td>0</td>\n",
              "      <td>0</td>\n",
              "      <td>1</td>\n",
              "      <td>0</td>\n",
              "    </tr>\n",
              "    <tr>\n",
              "      <th>3848</th>\n",
              "      <td>-0.871640</td>\n",
              "      <td>-1.316540</td>\n",
              "      <td>-0.866716</td>\n",
              "      <td>0</td>\n",
              "      <td>1</td>\n",
              "      <td>0</td>\n",
              "      <td>1</td>\n",
              "      <td>0</td>\n",
              "      <td>0</td>\n",
              "      <td>1</td>\n",
              "      <td>...</td>\n",
              "      <td>0</td>\n",
              "      <td>1</td>\n",
              "      <td>0</td>\n",
              "      <td>0</td>\n",
              "      <td>1</td>\n",
              "      <td>0</td>\n",
              "      <td>0</td>\n",
              "      <td>0</td>\n",
              "      <td>1</td>\n",
              "      <td>0</td>\n",
              "    </tr>\n",
              "  </tbody>\n",
              "</table>\n",
              "<p>3 rows × 45 columns</p>\n",
              "</div>\n",
              "      <button class=\"colab-df-convert\" onclick=\"convertToInteractive('df-40c7c54b-df1e-41d3-97d6-74a1e4c38bbf')\"\n",
              "              title=\"Convert this dataframe to an interactive table.\"\n",
              "              style=\"display:none;\">\n",
              "        \n",
              "  <svg xmlns=\"http://www.w3.org/2000/svg\" height=\"24px\"viewBox=\"0 0 24 24\"\n",
              "       width=\"24px\">\n",
              "    <path d=\"M0 0h24v24H0V0z\" fill=\"none\"/>\n",
              "    <path d=\"M18.56 5.44l.94 2.06.94-2.06 2.06-.94-2.06-.94-.94-2.06-.94 2.06-2.06.94zm-11 1L8.5 8.5l.94-2.06 2.06-.94-2.06-.94L8.5 2.5l-.94 2.06-2.06.94zm10 10l.94 2.06.94-2.06 2.06-.94-2.06-.94-.94-2.06-.94 2.06-2.06.94z\"/><path d=\"M17.41 7.96l-1.37-1.37c-.4-.4-.92-.59-1.43-.59-.52 0-1.04.2-1.43.59L10.3 9.45l-7.72 7.72c-.78.78-.78 2.05 0 2.83L4 21.41c.39.39.9.59 1.41.59.51 0 1.02-.2 1.41-.59l7.78-7.78 2.81-2.81c.8-.78.8-2.07 0-2.86zM5.41 20L4 18.59l7.72-7.72 1.47 1.35L5.41 20z\"/>\n",
              "  </svg>\n",
              "      </button>\n",
              "      \n",
              "  <style>\n",
              "    .colab-df-container {\n",
              "      display:flex;\n",
              "      flex-wrap:wrap;\n",
              "      gap: 12px;\n",
              "    }\n",
              "\n",
              "    .colab-df-convert {\n",
              "      background-color: #E8F0FE;\n",
              "      border: none;\n",
              "      border-radius: 50%;\n",
              "      cursor: pointer;\n",
              "      display: none;\n",
              "      fill: #1967D2;\n",
              "      height: 32px;\n",
              "      padding: 0 0 0 0;\n",
              "      width: 32px;\n",
              "    }\n",
              "\n",
              "    .colab-df-convert:hover {\n",
              "      background-color: #E2EBFA;\n",
              "      box-shadow: 0px 1px 2px rgba(60, 64, 67, 0.3), 0px 1px 3px 1px rgba(60, 64, 67, 0.15);\n",
              "      fill: #174EA6;\n",
              "    }\n",
              "\n",
              "    [theme=dark] .colab-df-convert {\n",
              "      background-color: #3B4455;\n",
              "      fill: #D2E3FC;\n",
              "    }\n",
              "\n",
              "    [theme=dark] .colab-df-convert:hover {\n",
              "      background-color: #434B5C;\n",
              "      box-shadow: 0px 1px 3px 1px rgba(0, 0, 0, 0.15);\n",
              "      filter: drop-shadow(0px 1px 2px rgba(0, 0, 0, 0.3));\n",
              "      fill: #FFFFFF;\n",
              "    }\n",
              "  </style>\n",
              "\n",
              "      <script>\n",
              "        const buttonEl =\n",
              "          document.querySelector('#df-40c7c54b-df1e-41d3-97d6-74a1e4c38bbf button.colab-df-convert');\n",
              "        buttonEl.style.display =\n",
              "          google.colab.kernel.accessAllowed ? 'block' : 'none';\n",
              "\n",
              "        async function convertToInteractive(key) {\n",
              "          const element = document.querySelector('#df-40c7c54b-df1e-41d3-97d6-74a1e4c38bbf');\n",
              "          const dataTable =\n",
              "            await google.colab.kernel.invokeFunction('convertToInteractive',\n",
              "                                                     [key], {});\n",
              "          if (!dataTable) return;\n",
              "\n",
              "          const docLinkHtml = 'Like what you see? Visit the ' +\n",
              "            '<a target=\"_blank\" href=https://colab.research.google.com/notebooks/data_table.ipynb>data table notebook</a>'\n",
              "            + ' to learn more about interactive tables.';\n",
              "          element.innerHTML = '';\n",
              "          dataTable['output_type'] = 'display_data';\n",
              "          await google.colab.output.renderOutput(dataTable, element);\n",
              "          const docLink = document.createElement('div');\n",
              "          docLink.innerHTML = docLinkHtml;\n",
              "          element.appendChild(docLink);\n",
              "        }\n",
              "      </script>\n",
              "    </div>\n",
              "  </div>\n",
              "  "
            ]
          },
          "metadata": {},
          "execution_count": 41
        }
      ]
    },
    {
      "cell_type": "code",
      "source": [
        "X.shape"
      ],
      "metadata": {
        "execution": {
          "iopub.status.busy": "2023-04-18T08:02:01.272727Z",
          "iopub.execute_input": "2023-04-18T08:02:01.273185Z",
          "iopub.status.idle": "2023-04-18T08:02:01.281773Z",
          "shell.execute_reply.started": "2023-04-18T08:02:01.273141Z",
          "shell.execute_reply": "2023-04-18T08:02:01.280268Z"
        },
        "trusted": true,
        "colab": {
          "base_uri": "https://localhost:8080/"
        },
        "id": "SZz4ZW3TZ5TF",
        "outputId": "950aabb4-e92e-4c8f-b60d-9db6520eba9c"
      },
      "execution_count": null,
      "outputs": [
        {
          "output_type": "execute_result",
          "data": {
            "text/plain": [
              "(5282, 45)"
            ]
          },
          "metadata": {},
          "execution_count": 42
        }
      ]
    },
    {
      "cell_type": "code",
      "source": [
        "y = df[target_col]"
      ],
      "metadata": {
        "execution": {
          "iopub.status.busy": "2023-04-18T08:02:01.283586Z",
          "iopub.execute_input": "2023-04-18T08:02:01.284139Z",
          "iopub.status.idle": "2023-04-18T08:02:01.293824Z",
          "shell.execute_reply.started": "2023-04-18T08:02:01.284093Z",
          "shell.execute_reply": "2023-04-18T08:02:01.292269Z"
        },
        "trusted": true,
        "id": "kEDe0lX8Z5TG"
      },
      "execution_count": null,
      "outputs": []
    },
    {
      "cell_type": "code",
      "source": [
        "X_train, X_test, y_train, y_test = train_test_split(X, y, test_size=0.2, random_state=42)"
      ],
      "metadata": {
        "execution": {
          "iopub.status.busy": "2023-04-18T08:02:01.296155Z",
          "iopub.execute_input": "2023-04-18T08:02:01.296617Z",
          "iopub.status.idle": "2023-04-18T08:02:01.311738Z",
          "shell.execute_reply.started": "2023-04-18T08:02:01.296570Z",
          "shell.execute_reply": "2023-04-18T08:02:01.310504Z"
        },
        "trusted": true,
        "id": "0EmRDtnxZ5TG"
      },
      "execution_count": null,
      "outputs": []
    },
    {
      "cell_type": "code",
      "source": [
        "model_line = LogisticRegressionCV(max_iter=1500)"
      ],
      "metadata": {
        "execution": {
          "iopub.status.busy": "2023-04-18T08:02:01.313744Z",
          "iopub.execute_input": "2023-04-18T08:02:01.314209Z",
          "iopub.status.idle": "2023-04-18T08:02:01.325009Z",
          "shell.execute_reply.started": "2023-04-18T08:02:01.314165Z",
          "shell.execute_reply": "2023-04-18T08:02:01.323587Z"
        },
        "trusted": true,
        "id": "MmtUdfcKZ5TG"
      },
      "execution_count": null,
      "outputs": []
    },
    {
      "cell_type": "code",
      "source": [
        "grid_cv = GridSearchCV(model_line, param_grid={\n",
        "                                    'penalty': ['l1', 'l2'],\n",
        "                                    'solver': ['lbfgs', 'newton-cg', 'liblinear', 'saga']\n",
        "                                    },\n",
        "\n",
        "                      scoring='roc_auc',\n",
        "                      refit=True,\n",
        "                      n_jobs=-1,\n",
        "                      verbose=0,\n",
        "                     )\n",
        "grid_cv.fit(X_train, y_train)"
      ],
      "metadata": {
        "execution": {
          "iopub.status.busy": "2023-04-18T08:02:01.326979Z",
          "iopub.execute_input": "2023-04-18T08:02:01.327690Z",
          "iopub.status.idle": "2023-04-18T08:04:11.951156Z",
          "shell.execute_reply.started": "2023-04-18T08:02:01.327634Z",
          "shell.execute_reply": "2023-04-18T08:04:11.949823Z"
        },
        "trusted": true,
        "colab": {
          "base_uri": "https://localhost:8080/",
          "height": 118
        },
        "id": "F1ke6LiqZ5TG",
        "outputId": "b3d73583-0487-46b2-c782-0a35c7fa0368"
      },
      "execution_count": null,
      "outputs": [
        {
          "output_type": "execute_result",
          "data": {
            "text/plain": [
              "GridSearchCV(estimator=LogisticRegressionCV(max_iter=1500), n_jobs=-1,\n",
              "             param_grid={'penalty': ['l1', 'l2'],\n",
              "                         'solver': ['lbfgs', 'newton-cg', 'liblinear', 'saga']},\n",
              "             scoring='roc_auc')"
            ],
            "text/html": [
              "<style>#sk-container-id-1 {color: black;background-color: white;}#sk-container-id-1 pre{padding: 0;}#sk-container-id-1 div.sk-toggleable {background-color: white;}#sk-container-id-1 label.sk-toggleable__label {cursor: pointer;display: block;width: 100%;margin-bottom: 0;padding: 0.3em;box-sizing: border-box;text-align: center;}#sk-container-id-1 label.sk-toggleable__label-arrow:before {content: \"▸\";float: left;margin-right: 0.25em;color: #696969;}#sk-container-id-1 label.sk-toggleable__label-arrow:hover:before {color: black;}#sk-container-id-1 div.sk-estimator:hover label.sk-toggleable__label-arrow:before {color: black;}#sk-container-id-1 div.sk-toggleable__content {max-height: 0;max-width: 0;overflow: hidden;text-align: left;background-color: #f0f8ff;}#sk-container-id-1 div.sk-toggleable__content pre {margin: 0.2em;color: black;border-radius: 0.25em;background-color: #f0f8ff;}#sk-container-id-1 input.sk-toggleable__control:checked~div.sk-toggleable__content {max-height: 200px;max-width: 100%;overflow: auto;}#sk-container-id-1 input.sk-toggleable__control:checked~label.sk-toggleable__label-arrow:before {content: \"▾\";}#sk-container-id-1 div.sk-estimator input.sk-toggleable__control:checked~label.sk-toggleable__label {background-color: #d4ebff;}#sk-container-id-1 div.sk-label input.sk-toggleable__control:checked~label.sk-toggleable__label {background-color: #d4ebff;}#sk-container-id-1 input.sk-hidden--visually {border: 0;clip: rect(1px 1px 1px 1px);clip: rect(1px, 1px, 1px, 1px);height: 1px;margin: -1px;overflow: hidden;padding: 0;position: absolute;width: 1px;}#sk-container-id-1 div.sk-estimator {font-family: monospace;background-color: #f0f8ff;border: 1px dotted black;border-radius: 0.25em;box-sizing: border-box;margin-bottom: 0.5em;}#sk-container-id-1 div.sk-estimator:hover {background-color: #d4ebff;}#sk-container-id-1 div.sk-parallel-item::after {content: \"\";width: 100%;border-bottom: 1px solid gray;flex-grow: 1;}#sk-container-id-1 div.sk-label:hover label.sk-toggleable__label {background-color: #d4ebff;}#sk-container-id-1 div.sk-serial::before {content: \"\";position: absolute;border-left: 1px solid gray;box-sizing: border-box;top: 0;bottom: 0;left: 50%;z-index: 0;}#sk-container-id-1 div.sk-serial {display: flex;flex-direction: column;align-items: center;background-color: white;padding-right: 0.2em;padding-left: 0.2em;position: relative;}#sk-container-id-1 div.sk-item {position: relative;z-index: 1;}#sk-container-id-1 div.sk-parallel {display: flex;align-items: stretch;justify-content: center;background-color: white;position: relative;}#sk-container-id-1 div.sk-item::before, #sk-container-id-1 div.sk-parallel-item::before {content: \"\";position: absolute;border-left: 1px solid gray;box-sizing: border-box;top: 0;bottom: 0;left: 50%;z-index: -1;}#sk-container-id-1 div.sk-parallel-item {display: flex;flex-direction: column;z-index: 1;position: relative;background-color: white;}#sk-container-id-1 div.sk-parallel-item:first-child::after {align-self: flex-end;width: 50%;}#sk-container-id-1 div.sk-parallel-item:last-child::after {align-self: flex-start;width: 50%;}#sk-container-id-1 div.sk-parallel-item:only-child::after {width: 0;}#sk-container-id-1 div.sk-dashed-wrapped {border: 1px dashed gray;margin: 0 0.4em 0.5em 0.4em;box-sizing: border-box;padding-bottom: 0.4em;background-color: white;}#sk-container-id-1 div.sk-label label {font-family: monospace;font-weight: bold;display: inline-block;line-height: 1.2em;}#sk-container-id-1 div.sk-label-container {text-align: center;}#sk-container-id-1 div.sk-container {/* jupyter's `normalize.less` sets `[hidden] { display: none; }` but bootstrap.min.css set `[hidden] { display: none !important; }` so we also need the `!important` here to be able to override the default hidden behavior on the sphinx rendered scikit-learn.org. See: https://github.com/scikit-learn/scikit-learn/issues/21755 */display: inline-block !important;position: relative;}#sk-container-id-1 div.sk-text-repr-fallback {display: none;}</style><div id=\"sk-container-id-1\" class=\"sk-top-container\"><div class=\"sk-text-repr-fallback\"><pre>GridSearchCV(estimator=LogisticRegressionCV(max_iter=1500), n_jobs=-1,\n",
              "             param_grid={&#x27;penalty&#x27;: [&#x27;l1&#x27;, &#x27;l2&#x27;],\n",
              "                         &#x27;solver&#x27;: [&#x27;lbfgs&#x27;, &#x27;newton-cg&#x27;, &#x27;liblinear&#x27;, &#x27;saga&#x27;]},\n",
              "             scoring=&#x27;roc_auc&#x27;)</pre><b>In a Jupyter environment, please rerun this cell to show the HTML representation or trust the notebook. <br />On GitHub, the HTML representation is unable to render, please try loading this page with nbviewer.org.</b></div><div class=\"sk-container\" hidden><div class=\"sk-item sk-dashed-wrapped\"><div class=\"sk-label-container\"><div class=\"sk-label sk-toggleable\"><input class=\"sk-toggleable__control sk-hidden--visually\" id=\"sk-estimator-id-1\" type=\"checkbox\" ><label for=\"sk-estimator-id-1\" class=\"sk-toggleable__label sk-toggleable__label-arrow\">GridSearchCV</label><div class=\"sk-toggleable__content\"><pre>GridSearchCV(estimator=LogisticRegressionCV(max_iter=1500), n_jobs=-1,\n",
              "             param_grid={&#x27;penalty&#x27;: [&#x27;l1&#x27;, &#x27;l2&#x27;],\n",
              "                         &#x27;solver&#x27;: [&#x27;lbfgs&#x27;, &#x27;newton-cg&#x27;, &#x27;liblinear&#x27;, &#x27;saga&#x27;]},\n",
              "             scoring=&#x27;roc_auc&#x27;)</pre></div></div></div><div class=\"sk-parallel\"><div class=\"sk-parallel-item\"><div class=\"sk-item\"><div class=\"sk-label-container\"><div class=\"sk-label sk-toggleable\"><input class=\"sk-toggleable__control sk-hidden--visually\" id=\"sk-estimator-id-2\" type=\"checkbox\" ><label for=\"sk-estimator-id-2\" class=\"sk-toggleable__label sk-toggleable__label-arrow\">estimator: LogisticRegressionCV</label><div class=\"sk-toggleable__content\"><pre>LogisticRegressionCV(max_iter=1500)</pre></div></div></div><div class=\"sk-serial\"><div class=\"sk-item\"><div class=\"sk-estimator sk-toggleable\"><input class=\"sk-toggleable__control sk-hidden--visually\" id=\"sk-estimator-id-3\" type=\"checkbox\" ><label for=\"sk-estimator-id-3\" class=\"sk-toggleable__label sk-toggleable__label-arrow\">LogisticRegressionCV</label><div class=\"sk-toggleable__content\"><pre>LogisticRegressionCV(max_iter=1500)</pre></div></div></div></div></div></div></div></div></div></div>"
            ]
          },
          "metadata": {},
          "execution_count": 46
        }
      ]
    },
    {
      "cell_type": "code",
      "source": [
        "print(f'Лучшее качество {grid_cv.best_score_}')\n",
        "print(f'Параметры: {grid_cv.best_params_}')"
      ],
      "metadata": {
        "execution": {
          "iopub.status.busy": "2023-04-18T08:04:11.952941Z",
          "iopub.execute_input": "2023-04-18T08:04:11.953343Z",
          "iopub.status.idle": "2023-04-18T08:04:11.960634Z",
          "shell.execute_reply.started": "2023-04-18T08:04:11.953304Z",
          "shell.execute_reply": "2023-04-18T08:04:11.958989Z"
        },
        "trusted": true,
        "colab": {
          "base_uri": "https://localhost:8080/"
        },
        "id": "kNFMpR6CZ5TG",
        "outputId": "375f10d6-3a22-49e4-aa59-83bd46f792a8"
      },
      "execution_count": null,
      "outputs": [
        {
          "output_type": "stream",
          "name": "stdout",
          "text": [
            "Лучшее качество 0.8484767039891856\n",
            "Параметры: {'penalty': 'l1', 'solver': 'saga'}\n"
          ]
        }
      ]
    },
    {
      "cell_type": "markdown",
      "source": [
        "### CatBoostClassifier"
      ],
      "metadata": {
        "id": "4zVMH9wAZ5TG"
      }
    },
    {
      "cell_type": "code",
      "source": [
        "X_train, X_test, y_train, y_test = train_test_split(X_original, y, train_size=0.8, random_state=42)"
      ],
      "metadata": {
        "execution": {
          "iopub.status.busy": "2023-04-18T08:04:11.962212Z",
          "iopub.execute_input": "2023-04-18T08:04:11.962621Z",
          "iopub.status.idle": "2023-04-18T08:04:11.980332Z",
          "shell.execute_reply.started": "2023-04-18T08:04:11.962572Z",
          "shell.execute_reply": "2023-04-18T08:04:11.978856Z"
        },
        "trusted": true,
        "id": "oCukz67oZ5TG"
      },
      "execution_count": null,
      "outputs": []
    },
    {
      "cell_type": "markdown",
      "source": [
        "Посмотрим на распределение целевой метрики в train и test"
      ],
      "metadata": {
        "id": "_Rc8VSUcZ5TG"
      }
    },
    {
      "cell_type": "code",
      "source": [
        "y_train.mean()"
      ],
      "metadata": {
        "execution": {
          "iopub.status.busy": "2023-04-18T08:04:11.982249Z",
          "iopub.execute_input": "2023-04-18T08:04:11.983501Z",
          "iopub.status.idle": "2023-04-18T08:04:11.992753Z",
          "shell.execute_reply.started": "2023-04-18T08:04:11.983452Z",
          "shell.execute_reply": "2023-04-18T08:04:11.991450Z"
        },
        "trusted": true,
        "id": "MFkRhjVGZ5TG"
      },
      "execution_count": null,
      "outputs": []
    },
    {
      "cell_type": "code",
      "source": [
        "y_test.mean()"
      ],
      "metadata": {
        "execution": {
          "iopub.status.busy": "2023-04-18T08:04:11.994678Z",
          "iopub.execute_input": "2023-04-18T08:04:11.995132Z",
          "iopub.status.idle": "2023-04-18T08:04:12.008354Z",
          "shell.execute_reply.started": "2023-04-18T08:04:11.995087Z",
          "shell.execute_reply": "2023-04-18T08:04:12.006993Z"
        },
        "trusted": true,
        "id": "oSwQTHShZ5TG"
      },
      "execution_count": null,
      "outputs": []
    },
    {
      "cell_type": "markdown",
      "source": [
        "Попробуем по дефолту, потом подкрутим"
      ],
      "metadata": {
        "id": "pdSJ6nkJdCTs"
      }
    },
    {
      "cell_type": "code",
      "source": [
        "model_df = CatBoostClassifier(cat_features=cat_cols, eval_metric='AUC:hints=skip_train~false', verbose=100)"
      ],
      "metadata": {
        "id": "1TbnAYledAph"
      },
      "execution_count": null,
      "outputs": []
    },
    {
      "cell_type": "code",
      "source": [
        "model_df.fit(X_train, y_train)"
      ],
      "metadata": {
        "colab": {
          "base_uri": "https://localhost:8080/"
        },
        "id": "2lFcQ-cHdAr9",
        "outputId": "efa68817-9a1e-4ff6-bafc-806bb9f98c9b"
      },
      "execution_count": null,
      "outputs": [
        {
          "output_type": "stream",
          "name": "stdout",
          "text": [
            "Learning rate set to 0.019062\n",
            "0:\tlearn: 0.8175621\ttotal: 64.7ms\tremaining: 1m 4s\n",
            "100:\tlearn: 0.8633908\ttotal: 2.7s\tremaining: 24s\n",
            "200:\tlearn: 0.8735093\ttotal: 4.56s\tremaining: 18.1s\n",
            "300:\tlearn: 0.8792345\ttotal: 5.8s\tremaining: 13.5s\n",
            "400:\tlearn: 0.8853834\ttotal: 7.17s\tremaining: 10.7s\n",
            "500:\tlearn: 0.8936636\ttotal: 8.6s\tremaining: 8.56s\n",
            "600:\tlearn: 0.9022686\ttotal: 10.1s\tremaining: 6.72s\n",
            "700:\tlearn: 0.9092997\ttotal: 11.6s\tremaining: 4.97s\n",
            "800:\tlearn: 0.9155323\ttotal: 13.2s\tremaining: 3.27s\n",
            "900:\tlearn: 0.9214422\ttotal: 16.3s\tremaining: 1.79s\n",
            "999:\tlearn: 0.9266072\ttotal: 18s\tremaining: 0us\n"
          ]
        },
        {
          "output_type": "execute_result",
          "data": {
            "text/plain": [
              "<catboost.core.CatBoostClassifier at 0x7f3578c5c610>"
            ]
          },
          "metadata": {},
          "execution_count": 52
        }
      ]
    },
    {
      "cell_type": "code",
      "source": [
        "pred_test = model_df.predict_proba(X_test)[:,1]\n",
        "pred_train = model_df.predict_proba(X_train)[:,1]\n",
        "roc_auc_score(y_train, pred_train)"
      ],
      "metadata": {
        "colab": {
          "base_uri": "https://localhost:8080/"
        },
        "id": "GzKMukmndAuf",
        "outputId": "a59db3a6-7b4b-4c07-bad4-03ffff878f5d"
      },
      "execution_count": null,
      "outputs": [
        {
          "output_type": "execute_result",
          "data": {
            "text/plain": [
              "0.8980361281001294"
            ]
          },
          "metadata": {},
          "execution_count": 53
        }
      ]
    },
    {
      "cell_type": "code",
      "source": [
        "roc_auc_score(y_test, pred_test)"
      ],
      "metadata": {
        "colab": {
          "base_uri": "https://localhost:8080/"
        },
        "id": "FyWYgdbfdAw4",
        "outputId": "dd126e9f-da09-4fea-88f5-3e0f435259b8"
      },
      "execution_count": null,
      "outputs": [
        {
          "output_type": "execute_result",
          "data": {
            "text/plain": [
              "0.823387759625419"
            ]
          },
          "metadata": {},
          "execution_count": 54
        }
      ]
    },
    {
      "cell_type": "markdown",
      "source": [
        "Подправим модель"
      ],
      "metadata": {
        "id": "W9HTA6mkg3uE"
      }
    },
    {
      "cell_type": "code",
      "source": [
        "params = {\n",
        "    'verbose':100,\n",
        "    \"learning_rate\": 0.05,\n",
        "    \"max_depth\": 4,\n",
        "}"
      ],
      "metadata": {
        "execution": {
          "iopub.status.busy": "2023-04-18T08:04:12.009684Z",
          "iopub.execute_input": "2023-04-18T08:04:12.010107Z",
          "iopub.status.idle": "2023-04-18T08:04:12.024093Z",
          "shell.execute_reply.started": "2023-04-18T08:04:12.010066Z",
          "shell.execute_reply": "2023-04-18T08:04:12.020797Z"
        },
        "trusted": true,
        "id": "yTOkbv5-Z5TH"
      },
      "execution_count": null,
      "outputs": []
    },
    {
      "cell_type": "code",
      "source": [
        "catboost = CatBoostClassifier(\n",
        "    cat_features=cat_cols,\n",
        "    logging_level=\"Silent\",\n",
        "    eval_metric=\"AUC:hints=skip_train~false\",\n",
        "    random_seed=42,\n",
        ")"
      ],
      "metadata": {
        "execution": {
          "iopub.status.busy": "2023-04-18T08:04:12.027614Z",
          "iopub.execute_input": "2023-04-18T08:04:12.028575Z",
          "iopub.status.idle": "2023-04-18T08:04:12.041232Z",
          "shell.execute_reply.started": "2023-04-18T08:04:12.028467Z",
          "shell.execute_reply": "2023-04-18T08:04:12.039820Z"
        },
        "trusted": true,
        "id": "5xOCDbLgZ5TH"
      },
      "execution_count": null,
      "outputs": []
    },
    {
      "cell_type": "code",
      "source": [
        "model = CatBoostClassifier(**params,cat_features=cat_cols, eval_metric='AUC:hints=skip_train~false')"
      ],
      "metadata": {
        "execution": {
          "iopub.status.busy": "2023-04-18T08:04:12.043014Z",
          "iopub.execute_input": "2023-04-18T08:04:12.043576Z",
          "iopub.status.idle": "2023-04-18T08:04:12.065175Z",
          "shell.execute_reply.started": "2023-04-18T08:04:12.043518Z",
          "shell.execute_reply": "2023-04-18T08:04:12.063128Z"
        },
        "trusted": true,
        "id": "VNHL8SFGZ5TH"
      },
      "execution_count": null,
      "outputs": []
    },
    {
      "cell_type": "code",
      "source": [
        "model.fit(X_train, y_train)"
      ],
      "metadata": {
        "execution": {
          "iopub.status.busy": "2023-04-18T08:04:12.068187Z",
          "iopub.execute_input": "2023-04-18T08:04:12.069186Z",
          "iopub.status.idle": "2023-04-18T08:04:21.115278Z",
          "shell.execute_reply.started": "2023-04-18T08:04:12.069119Z",
          "shell.execute_reply": "2023-04-18T08:04:21.114022Z"
        },
        "trusted": true,
        "colab": {
          "base_uri": "https://localhost:8080/"
        },
        "id": "4okub-M2Z5TH",
        "outputId": "7fcb45c0-45de-4d9f-cdeb-917de0d5ca0a"
      },
      "execution_count": null,
      "outputs": [
        {
          "output_type": "stream",
          "name": "stdout",
          "text": [
            "0:\tlearn: 0.7816843\ttotal: 11.6ms\tremaining: 11.6s\n",
            "100:\tlearn: 0.8632380\ttotal: 930ms\tremaining: 8.28s\n",
            "200:\tlearn: 0.8724912\ttotal: 1.86s\tremaining: 7.39s\n",
            "300:\tlearn: 0.8814672\ttotal: 2.82s\tremaining: 6.55s\n",
            "400:\tlearn: 0.8889999\ttotal: 3.82s\tremaining: 5.7s\n",
            "500:\tlearn: 0.8948259\ttotal: 4.79s\tremaining: 4.77s\n",
            "600:\tlearn: 0.8999175\ttotal: 5.78s\tremaining: 3.84s\n",
            "700:\tlearn: 0.9052059\ttotal: 6.77s\tremaining: 2.89s\n",
            "800:\tlearn: 0.9109854\ttotal: 7.75s\tremaining: 1.93s\n",
            "900:\tlearn: 0.9156048\ttotal: 9.16s\tremaining: 1.01s\n",
            "999:\tlearn: 0.9195272\ttotal: 11.5s\tremaining: 0us\n"
          ]
        },
        {
          "output_type": "execute_result",
          "data": {
            "text/plain": [
              "<catboost.core.CatBoostClassifier at 0x7f357803c370>"
            ]
          },
          "metadata": {},
          "execution_count": 58
        }
      ]
    },
    {
      "cell_type": "code",
      "source": [
        "pred_test = model.predict_proba(X_test)[:,1]\n",
        "pred_train = model.predict_proba(X_train)[:,1]\n",
        "roc_auc_score(y_train, pred_train)"
      ],
      "metadata": {
        "execution": {
          "iopub.status.busy": "2023-04-18T08:04:21.116597Z",
          "iopub.execute_input": "2023-04-18T08:04:21.117780Z",
          "iopub.status.idle": "2023-04-18T08:04:21.166525Z",
          "shell.execute_reply.started": "2023-04-18T08:04:21.117738Z",
          "shell.execute_reply": "2023-04-18T08:04:21.165084Z"
        },
        "trusted": true,
        "colab": {
          "base_uri": "https://localhost:8080/"
        },
        "id": "GUaQWk8KZ5TH",
        "outputId": "82e52123-4fe4-4cbb-dee8-2894d2bab158"
      },
      "execution_count": null,
      "outputs": [
        {
          "output_type": "execute_result",
          "data": {
            "text/plain": [
              "0.8981201954769433"
            ]
          },
          "metadata": {},
          "execution_count": 59
        }
      ]
    },
    {
      "cell_type": "code",
      "source": [
        "roc_auc_score(y_test, pred_test)"
      ],
      "metadata": {
        "execution": {
          "iopub.status.busy": "2023-04-18T08:04:21.168750Z",
          "iopub.execute_input": "2023-04-18T08:04:21.169320Z",
          "iopub.status.idle": "2023-04-18T08:04:21.183637Z",
          "shell.execute_reply.started": "2023-04-18T08:04:21.169265Z",
          "shell.execute_reply": "2023-04-18T08:04:21.181893Z"
        },
        "trusted": true,
        "colab": {
          "base_uri": "https://localhost:8080/"
        },
        "id": "n97Fvjo1Z5TH",
        "outputId": "fb8cfdbc-fa77-4375-b12a-a0689c73fd84"
      },
      "execution_count": null,
      "outputs": [
        {
          "output_type": "execute_result",
          "data": {
            "text/plain": [
              "0.8234223917400099"
            ]
          },
          "metadata": {},
          "execution_count": 60
        }
      ]
    },
    {
      "cell_type": "markdown",
      "source": [
        "### Делаем предсказание"
      ],
      "metadata": {
        "id": "HTHMBMb9Z5TH"
      }
    },
    {
      "cell_type": "code",
      "source": [
        "best_model = model"
      ],
      "metadata": {
        "execution": {
          "iopub.status.busy": "2023-04-18T08:04:21.185974Z",
          "iopub.execute_input": "2023-04-18T08:04:21.187413Z",
          "iopub.status.idle": "2023-04-18T08:04:21.194224Z",
          "shell.execute_reply.started": "2023-04-18T08:04:21.187357Z",
          "shell.execute_reply": "2023-04-18T08:04:21.192708Z"
        },
        "trusted": true,
        "id": "kDKtCPYZZ5TH"
      },
      "execution_count": null,
      "outputs": []
    },
    {
      "cell_type": "code",
      "source": [
        "try:\n",
        "    submission = pd.read_csv('/kaggle/input/advanced-dls-spring-2021/submission.csv')\n",
        "except:\n",
        "    submission = pd.read_csv('https://drive.google.com/uc?id=199Mt4OYZNaelT83U-HGDsEYs2YcUGQ6y')"
      ],
      "metadata": {
        "execution": {
          "iopub.status.busy": "2023-04-18T08:04:21.195950Z",
          "iopub.execute_input": "2023-04-18T08:04:21.196624Z",
          "iopub.status.idle": "2023-04-18T08:04:21.223625Z",
          "shell.execute_reply.started": "2023-04-18T08:04:21.196570Z",
          "shell.execute_reply": "2023-04-18T08:04:21.222436Z"
        },
        "trusted": true,
        "id": "MWqlJt0KZ5TH"
      },
      "execution_count": null,
      "outputs": []
    },
    {
      "cell_type": "code",
      "source": [
        "#submission = pd.read_csv('/kaggle/input/advanced-dls-spring-2021/submission.csv')"
      ],
      "metadata": {
        "execution": {
          "iopub.status.busy": "2023-04-18T08:04:21.224762Z",
          "iopub.execute_input": "2023-04-18T08:04:21.225173Z",
          "iopub.status.idle": "2023-04-18T08:04:21.231573Z",
          "shell.execute_reply.started": "2023-04-18T08:04:21.225134Z",
          "shell.execute_reply": "2023-04-18T08:04:21.229974Z"
        },
        "trusted": true,
        "id": "w-UJ37PGZ5TH"
      },
      "execution_count": null,
      "outputs": []
    },
    {
      "cell_type": "code",
      "source": [
        "submission['Churn'] = best_model.predict_proba(test)[:,1]"
      ],
      "metadata": {
        "execution": {
          "iopub.status.busy": "2023-04-18T08:04:21.233680Z",
          "iopub.execute_input": "2023-04-18T08:04:21.234384Z",
          "iopub.status.idle": "2023-04-18T08:04:21.257861Z",
          "shell.execute_reply.started": "2023-04-18T08:04:21.234331Z",
          "shell.execute_reply": "2023-04-18T08:04:21.256403Z"
        },
        "trusted": true,
        "id": "ax-TAA7IZ5TH"
      },
      "execution_count": null,
      "outputs": []
    },
    {
      "cell_type": "code",
      "source": [
        "submission.to_csv(\"./my_submission.csv\", index=False)"
      ],
      "metadata": {
        "execution": {
          "iopub.status.busy": "2023-04-18T08:04:21.259469Z",
          "iopub.execute_input": "2023-04-18T08:04:21.259953Z",
          "iopub.status.idle": "2023-04-18T08:04:21.277635Z",
          "shell.execute_reply.started": "2023-04-18T08:04:21.259911Z",
          "shell.execute_reply": "2023-04-18T08:04:21.275924Z"
        },
        "trusted": true,
        "id": "Y_y-WnFQZ5TI"
      },
      "execution_count": null,
      "outputs": []
    },
    {
      "cell_type": "code",
      "source": [
        "submission.head(2)"
      ],
      "metadata": {
        "execution": {
          "iopub.status.busy": "2023-04-18T08:04:21.279515Z",
          "iopub.execute_input": "2023-04-18T08:04:21.279906Z",
          "iopub.status.idle": "2023-04-18T08:04:21.293544Z",
          "shell.execute_reply.started": "2023-04-18T08:04:21.279871Z",
          "shell.execute_reply": "2023-04-18T08:04:21.292204Z"
        },
        "trusted": true,
        "colab": {
          "base_uri": "https://localhost:8080/",
          "height": 112
        },
        "id": "m-AnDSwiZ5TI",
        "outputId": "0af17a46-8f7c-472a-92a9-b3afd59c6990"
      },
      "execution_count": null,
      "outputs": [
        {
          "output_type": "execute_result",
          "data": {
            "text/plain": [
              "   Id     Churn\n",
              "0   0  0.033193\n",
              "1   1  0.785759"
            ],
            "text/html": [
              "\n",
              "  <div id=\"df-ae9241f9-59b9-4673-af1b-b60ce82a3477\">\n",
              "    <div class=\"colab-df-container\">\n",
              "      <div>\n",
              "<style scoped>\n",
              "    .dataframe tbody tr th:only-of-type {\n",
              "        vertical-align: middle;\n",
              "    }\n",
              "\n",
              "    .dataframe tbody tr th {\n",
              "        vertical-align: top;\n",
              "    }\n",
              "\n",
              "    .dataframe thead th {\n",
              "        text-align: right;\n",
              "    }\n",
              "</style>\n",
              "<table border=\"1\" class=\"dataframe\">\n",
              "  <thead>\n",
              "    <tr style=\"text-align: right;\">\n",
              "      <th></th>\n",
              "      <th>Id</th>\n",
              "      <th>Churn</th>\n",
              "    </tr>\n",
              "  </thead>\n",
              "  <tbody>\n",
              "    <tr>\n",
              "      <th>0</th>\n",
              "      <td>0</td>\n",
              "      <td>0.033193</td>\n",
              "    </tr>\n",
              "    <tr>\n",
              "      <th>1</th>\n",
              "      <td>1</td>\n",
              "      <td>0.785759</td>\n",
              "    </tr>\n",
              "  </tbody>\n",
              "</table>\n",
              "</div>\n",
              "      <button class=\"colab-df-convert\" onclick=\"convertToInteractive('df-ae9241f9-59b9-4673-af1b-b60ce82a3477')\"\n",
              "              title=\"Convert this dataframe to an interactive table.\"\n",
              "              style=\"display:none;\">\n",
              "        \n",
              "  <svg xmlns=\"http://www.w3.org/2000/svg\" height=\"24px\"viewBox=\"0 0 24 24\"\n",
              "       width=\"24px\">\n",
              "    <path d=\"M0 0h24v24H0V0z\" fill=\"none\"/>\n",
              "    <path d=\"M18.56 5.44l.94 2.06.94-2.06 2.06-.94-2.06-.94-.94-2.06-.94 2.06-2.06.94zm-11 1L8.5 8.5l.94-2.06 2.06-.94-2.06-.94L8.5 2.5l-.94 2.06-2.06.94zm10 10l.94 2.06.94-2.06 2.06-.94-2.06-.94-.94-2.06-.94 2.06-2.06.94z\"/><path d=\"M17.41 7.96l-1.37-1.37c-.4-.4-.92-.59-1.43-.59-.52 0-1.04.2-1.43.59L10.3 9.45l-7.72 7.72c-.78.78-.78 2.05 0 2.83L4 21.41c.39.39.9.59 1.41.59.51 0 1.02-.2 1.41-.59l7.78-7.78 2.81-2.81c.8-.78.8-2.07 0-2.86zM5.41 20L4 18.59l7.72-7.72 1.47 1.35L5.41 20z\"/>\n",
              "  </svg>\n",
              "      </button>\n",
              "      \n",
              "  <style>\n",
              "    .colab-df-container {\n",
              "      display:flex;\n",
              "      flex-wrap:wrap;\n",
              "      gap: 12px;\n",
              "    }\n",
              "\n",
              "    .colab-df-convert {\n",
              "      background-color: #E8F0FE;\n",
              "      border: none;\n",
              "      border-radius: 50%;\n",
              "      cursor: pointer;\n",
              "      display: none;\n",
              "      fill: #1967D2;\n",
              "      height: 32px;\n",
              "      padding: 0 0 0 0;\n",
              "      width: 32px;\n",
              "    }\n",
              "\n",
              "    .colab-df-convert:hover {\n",
              "      background-color: #E2EBFA;\n",
              "      box-shadow: 0px 1px 2px rgba(60, 64, 67, 0.3), 0px 1px 3px 1px rgba(60, 64, 67, 0.15);\n",
              "      fill: #174EA6;\n",
              "    }\n",
              "\n",
              "    [theme=dark] .colab-df-convert {\n",
              "      background-color: #3B4455;\n",
              "      fill: #D2E3FC;\n",
              "    }\n",
              "\n",
              "    [theme=dark] .colab-df-convert:hover {\n",
              "      background-color: #434B5C;\n",
              "      box-shadow: 0px 1px 3px 1px rgba(0, 0, 0, 0.15);\n",
              "      filter: drop-shadow(0px 1px 2px rgba(0, 0, 0, 0.3));\n",
              "      fill: #FFFFFF;\n",
              "    }\n",
              "  </style>\n",
              "\n",
              "      <script>\n",
              "        const buttonEl =\n",
              "          document.querySelector('#df-ae9241f9-59b9-4673-af1b-b60ce82a3477 button.colab-df-convert');\n",
              "        buttonEl.style.display =\n",
              "          google.colab.kernel.accessAllowed ? 'block' : 'none';\n",
              "\n",
              "        async function convertToInteractive(key) {\n",
              "          const element = document.querySelector('#df-ae9241f9-59b9-4673-af1b-b60ce82a3477');\n",
              "          const dataTable =\n",
              "            await google.colab.kernel.invokeFunction('convertToInteractive',\n",
              "                                                     [key], {});\n",
              "          if (!dataTable) return;\n",
              "\n",
              "          const docLinkHtml = 'Like what you see? Visit the ' +\n",
              "            '<a target=\"_blank\" href=https://colab.research.google.com/notebooks/data_table.ipynb>data table notebook</a>'\n",
              "            + ' to learn more about interactive tables.';\n",
              "          element.innerHTML = '';\n",
              "          dataTable['output_type'] = 'display_data';\n",
              "          await google.colab.output.renderOutput(dataTable, element);\n",
              "          const docLink = document.createElement('div');\n",
              "          docLink.innerHTML = docLinkHtml;\n",
              "          element.appendChild(docLink);\n",
              "        }\n",
              "      </script>\n",
              "    </div>\n",
              "  </div>\n",
              "  "
            ]
          },
          "metadata": {},
          "execution_count": 66
        }
      ]
    },
    {
      "cell_type": "code",
      "source": [],
      "metadata": {
        "id": "j3RnQVeUh4P3"
      },
      "execution_count": null,
      "outputs": []
    }
  ]
}